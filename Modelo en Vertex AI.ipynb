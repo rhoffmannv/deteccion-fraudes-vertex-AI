{
 "cells": [
  {
   "cell_type": "markdown",
   "id": "c8bcf1b2",
   "metadata": {},
   "source": [
    "## Preparación"
   ]
  },
  {
   "cell_type": "markdown",
   "id": "10e366e2",
   "metadata": {},
   "source": [
    "Constantes:"
   ]
  },
  {
   "cell_type": "code",
   "execution_count": 2,
   "id": "614de332",
   "metadata": {},
   "outputs": [],
   "source": [
    "project = !gcloud config get-value project\n",
    "PROJECT_ID = project[0] # Nombre del proyecto\n",
    "\n",
    "REGION = 'us-central1' # Ubicación servidores a usar\n",
    "EXPERIMENT = '05'\n",
    "SERIES = '05'\n",
    "\n",
    "# Parámetros BigQuery\n",
    "BQ_PROJECT = PROJECT_ID # Proyecto de BigQuery\n",
    "BQ_DATASET = 'fraud' # Nombre del dataset dentro de BigQuery\n",
    "BQ_TABLE = 'fraud_prepped' # Nombre de tabla dentro del dataset\n",
    "\n",
    "# Recuersos\n",
    "DEPLOY_COMPUTE = 'n1-standard-4' # Tipo de hardware\n",
    "DEPLOY_IMAGE='us-docker.pkg.dev/vertex-ai/prediction/tf2-cpu.2-7:latest' # Imagen de Docker a usar\n",
    "\n",
    "# Parámetros para entrenamiento de modelo\n",
    "VAR_TARGET = 'Class' # Nombre (field) de las etiquetas en la tabla\n",
    "VAR_OMIT = 'transaction_id' # Variables a omitir\n",
    "EPOCHS = 4 # Épocas de entrenamiento\n",
    "BATCH_SIZE = 100 # Batch size de entrenamiento\n",
    "\n",
    "TIMESTAMP = datetime.now().strftime(\"%Y%m%d%H%M%S\") # Timestamp para usar como identificador\n",
    "BUCKET = PROJECT_ID # Bucket en Google Storage\n",
    "URI = f\"gs://{BUCKET}/{SERIES}/{EXPERIMENT}\" # URI en Google Storage\n",
    "DIR = f\"temp/{EXPERIMENT}\" # Path de carpeta temporal auxiliar"
   ]
  },
  {
   "cell_type": "code",
   "execution_count": 50,
   "id": "41be9395-f783-4f2b-8354-8a38740514b0",
   "metadata": {},
   "outputs": [],
   "source": [
    "#!pip install tensorflow==2.10.0 tensorflow-io==0.27.0"
   ]
  },
  {
   "cell_type": "markdown",
   "id": "a92f2936",
   "metadata": {},
   "source": [
    "Importaciones:"
   ]
  },
  {
   "cell_type": "code",
   "execution_count": 3,
   "id": "986e7804",
   "metadata": {},
   "outputs": [
    {
     "name": "stderr",
     "output_type": "stream",
     "text": [
      "2023-09-28 23:25:27.949604: I tensorflow/core/platform/cpu_feature_guard.cc:193] This TensorFlow binary is optimized with oneAPI Deep Neural Network Library (oneDNN) to use the following CPU instructions in performance-critical operations:  AVX2 FMA\n",
      "To enable them in other operations, rebuild TensorFlow with the appropriate compiler flags.\n",
      "2023-09-28 23:25:28.185143: E tensorflow/stream_executor/cuda/cuda_blas.cc:2981] Unable to register cuBLAS factory: Attempting to register factory for plugin cuBLAS when one has already been registered\n",
      "2023-09-28 23:25:29.206932: W tensorflow/stream_executor/platform/default/dso_loader.cc:64] Could not load dynamic library 'libnvinfer.so.7'; dlerror: libnvinfer.so.7: cannot open shared object file: No such file or directory; LD_LIBRARY_PATH: /usr/local/cuda/lib64:/usr/local/nccl2/lib:/usr/local/cuda/extras/CUPTI/lib64\n",
      "2023-09-28 23:25:29.207114: W tensorflow/stream_executor/platform/default/dso_loader.cc:64] Could not load dynamic library 'libnvinfer_plugin.so.7'; dlerror: libnvinfer_plugin.so.7: cannot open shared object file: No such file or directory; LD_LIBRARY_PATH: /usr/local/cuda/lib64:/usr/local/nccl2/lib:/usr/local/cuda/extras/CUPTI/lib64\n",
      "2023-09-28 23:25:29.207127: W tensorflow/compiler/tf2tensorrt/utils/py_utils.cc:38] TF-TRT Warning: Cannot dlopen some TensorRT libraries. If you would like to use Nvidia GPU with TensorRT, please make sure the missing libraries mentioned above are installed properly.\n"
     ]
    }
   ],
   "source": [
    "from google.cloud import bigquery\n",
    "\n",
    "from tensorflow.python.framework import dtypes\n",
    "from tensorflow_io.bigquery import BigQueryClient\n",
    "import tensorflow as tf\n",
    "\n",
    "from google.cloud import aiplatform\n",
    "from datetime import datetime\n",
    "import os\n",
    "\n",
    "from google.protobuf import json_format\n",
    "from google.protobuf.struct_pb2 import Value\n",
    "import json\n",
    "import numpy as np\n",
    "import pandas as pd\n",
    "from sklearn import metrics as metrics"
   ]
  },
  {
   "cell_type": "markdown",
   "id": "139d3707",
   "metadata": {},
   "source": [
    "Declarar clientes de BigQuery y de Google Storage:"
   ]
  },
  {
   "cell_type": "code",
   "execution_count": 4,
   "id": "fdbc3411",
   "metadata": {},
   "outputs": [],
   "source": [
    "aiplatform.init(project = PROJECT_ID, location = REGION)\n",
    "bq = bigquery.Client(project = PROJECT_ID)"
   ]
  },
  {
   "cell_type": "markdown",
   "id": "de43acbc",
   "metadata": {},
   "source": [
    "Crear carpeta temporal auxiliar:"
   ]
  },
  {
   "cell_type": "code",
   "execution_count": 6,
   "id": "a92f3b28",
   "metadata": {},
   "outputs": [],
   "source": [
    "!rm -rf {DIR}\n",
    "!mkdir -p {DIR}"
   ]
  },
  {
   "cell_type": "markdown",
   "id": "eaf48dc3-cdbd-4e34-be4d-33c7563dbd33",
   "metadata": {},
   "source": [
    "## Datos de entrenamiento\n",
    "\n",
    "Se usan los datos de transacciones bancarias importados en tabla en BigQuery."
   ]
  },
  {
   "cell_type": "markdown",
   "id": "5f93fde9",
   "metadata": {},
   "source": [
    "### Esquema de la tabla\n",
    "\n",
    "Recuperar información de las columnas de la tabla de datos.   \n",
    "En BigQuery se puede usar `INFORMATION_SCHEMA` para obtener información sobre las columnas de una tabla, como el nombre y el tipo de dato que contiene."
   ]
  },
  {
   "cell_type": "code",
   "execution_count": 13,
   "id": "6edde19f",
   "metadata": {},
   "outputs": [
    {
     "data": {
      "text/html": [
       "<div>\n",
       "<style scoped>\n",
       "    .dataframe tbody tr th:only-of-type {\n",
       "        vertical-align: middle;\n",
       "    }\n",
       "\n",
       "    .dataframe tbody tr th {\n",
       "        vertical-align: top;\n",
       "    }\n",
       "\n",
       "    .dataframe thead th {\n",
       "        text-align: right;\n",
       "    }\n",
       "</style>\n",
       "<table border=\"1\" class=\"dataframe\">\n",
       "  <thead>\n",
       "    <tr style=\"text-align: right;\">\n",
       "      <th></th>\n",
       "      <th>table_catalog</th>\n",
       "      <th>table_schema</th>\n",
       "      <th>table_name</th>\n",
       "      <th>column_name</th>\n",
       "      <th>ordinal_position</th>\n",
       "      <th>is_nullable</th>\n",
       "      <th>data_type</th>\n",
       "      <th>is_generated</th>\n",
       "      <th>generation_expression</th>\n",
       "      <th>is_stored</th>\n",
       "      <th>is_hidden</th>\n",
       "      <th>is_updatable</th>\n",
       "      <th>is_system_defined</th>\n",
       "      <th>is_partitioning_column</th>\n",
       "      <th>clustering_ordinal_position</th>\n",
       "      <th>collation_name</th>\n",
       "      <th>column_default</th>\n",
       "      <th>rounding_mode</th>\n",
       "    </tr>\n",
       "  </thead>\n",
       "  <tbody>\n",
       "    <tr>\n",
       "      <th>0</th>\n",
       "      <td>statmike-mlops-349915</td>\n",
       "      <td>fraud</td>\n",
       "      <td>fraud_prepped</td>\n",
       "      <td>Time</td>\n",
       "      <td>1</td>\n",
       "      <td>YES</td>\n",
       "      <td>INT64</td>\n",
       "      <td>NEVER</td>\n",
       "      <td>None</td>\n",
       "      <td>None</td>\n",
       "      <td>NO</td>\n",
       "      <td>None</td>\n",
       "      <td>NO</td>\n",
       "      <td>NO</td>\n",
       "      <td>&lt;NA&gt;</td>\n",
       "      <td>NULL</td>\n",
       "      <td>NULL</td>\n",
       "      <td>None</td>\n",
       "    </tr>\n",
       "    <tr>\n",
       "      <th>1</th>\n",
       "      <td>statmike-mlops-349915</td>\n",
       "      <td>fraud</td>\n",
       "      <td>fraud_prepped</td>\n",
       "      <td>V1</td>\n",
       "      <td>2</td>\n",
       "      <td>YES</td>\n",
       "      <td>FLOAT64</td>\n",
       "      <td>NEVER</td>\n",
       "      <td>None</td>\n",
       "      <td>None</td>\n",
       "      <td>NO</td>\n",
       "      <td>None</td>\n",
       "      <td>NO</td>\n",
       "      <td>NO</td>\n",
       "      <td>&lt;NA&gt;</td>\n",
       "      <td>NULL</td>\n",
       "      <td>NULL</td>\n",
       "      <td>None</td>\n",
       "    </tr>\n",
       "    <tr>\n",
       "      <th>2</th>\n",
       "      <td>statmike-mlops-349915</td>\n",
       "      <td>fraud</td>\n",
       "      <td>fraud_prepped</td>\n",
       "      <td>V2</td>\n",
       "      <td>3</td>\n",
       "      <td>YES</td>\n",
       "      <td>FLOAT64</td>\n",
       "      <td>NEVER</td>\n",
       "      <td>None</td>\n",
       "      <td>None</td>\n",
       "      <td>NO</td>\n",
       "      <td>None</td>\n",
       "      <td>NO</td>\n",
       "      <td>NO</td>\n",
       "      <td>&lt;NA&gt;</td>\n",
       "      <td>NULL</td>\n",
       "      <td>NULL</td>\n",
       "      <td>None</td>\n",
       "    </tr>\n",
       "    <tr>\n",
       "      <th>3</th>\n",
       "      <td>statmike-mlops-349915</td>\n",
       "      <td>fraud</td>\n",
       "      <td>fraud_prepped</td>\n",
       "      <td>V3</td>\n",
       "      <td>4</td>\n",
       "      <td>YES</td>\n",
       "      <td>FLOAT64</td>\n",
       "      <td>NEVER</td>\n",
       "      <td>None</td>\n",
       "      <td>None</td>\n",
       "      <td>NO</td>\n",
       "      <td>None</td>\n",
       "      <td>NO</td>\n",
       "      <td>NO</td>\n",
       "      <td>&lt;NA&gt;</td>\n",
       "      <td>NULL</td>\n",
       "      <td>NULL</td>\n",
       "      <td>None</td>\n",
       "    </tr>\n",
       "    <tr>\n",
       "      <th>4</th>\n",
       "      <td>statmike-mlops-349915</td>\n",
       "      <td>fraud</td>\n",
       "      <td>fraud_prepped</td>\n",
       "      <td>V4</td>\n",
       "      <td>5</td>\n",
       "      <td>YES</td>\n",
       "      <td>FLOAT64</td>\n",
       "      <td>NEVER</td>\n",
       "      <td>None</td>\n",
       "      <td>None</td>\n",
       "      <td>NO</td>\n",
       "      <td>None</td>\n",
       "      <td>NO</td>\n",
       "      <td>NO</td>\n",
       "      <td>&lt;NA&gt;</td>\n",
       "      <td>NULL</td>\n",
       "      <td>NULL</td>\n",
       "      <td>None</td>\n",
       "    </tr>\n",
       "    <tr>\n",
       "      <th>5</th>\n",
       "      <td>statmike-mlops-349915</td>\n",
       "      <td>fraud</td>\n",
       "      <td>fraud_prepped</td>\n",
       "      <td>V5</td>\n",
       "      <td>6</td>\n",
       "      <td>YES</td>\n",
       "      <td>FLOAT64</td>\n",
       "      <td>NEVER</td>\n",
       "      <td>None</td>\n",
       "      <td>None</td>\n",
       "      <td>NO</td>\n",
       "      <td>None</td>\n",
       "      <td>NO</td>\n",
       "      <td>NO</td>\n",
       "      <td>&lt;NA&gt;</td>\n",
       "      <td>NULL</td>\n",
       "      <td>NULL</td>\n",
       "      <td>None</td>\n",
       "    </tr>\n",
       "    <tr>\n",
       "      <th>6</th>\n",
       "      <td>statmike-mlops-349915</td>\n",
       "      <td>fraud</td>\n",
       "      <td>fraud_prepped</td>\n",
       "      <td>V6</td>\n",
       "      <td>7</td>\n",
       "      <td>YES</td>\n",
       "      <td>FLOAT64</td>\n",
       "      <td>NEVER</td>\n",
       "      <td>None</td>\n",
       "      <td>None</td>\n",
       "      <td>NO</td>\n",
       "      <td>None</td>\n",
       "      <td>NO</td>\n",
       "      <td>NO</td>\n",
       "      <td>&lt;NA&gt;</td>\n",
       "      <td>NULL</td>\n",
       "      <td>NULL</td>\n",
       "      <td>None</td>\n",
       "    </tr>\n",
       "    <tr>\n",
       "      <th>7</th>\n",
       "      <td>statmike-mlops-349915</td>\n",
       "      <td>fraud</td>\n",
       "      <td>fraud_prepped</td>\n",
       "      <td>V7</td>\n",
       "      <td>8</td>\n",
       "      <td>YES</td>\n",
       "      <td>FLOAT64</td>\n",
       "      <td>NEVER</td>\n",
       "      <td>None</td>\n",
       "      <td>None</td>\n",
       "      <td>NO</td>\n",
       "      <td>None</td>\n",
       "      <td>NO</td>\n",
       "      <td>NO</td>\n",
       "      <td>&lt;NA&gt;</td>\n",
       "      <td>NULL</td>\n",
       "      <td>NULL</td>\n",
       "      <td>None</td>\n",
       "    </tr>\n",
       "    <tr>\n",
       "      <th>8</th>\n",
       "      <td>statmike-mlops-349915</td>\n",
       "      <td>fraud</td>\n",
       "      <td>fraud_prepped</td>\n",
       "      <td>V8</td>\n",
       "      <td>9</td>\n",
       "      <td>YES</td>\n",
       "      <td>FLOAT64</td>\n",
       "      <td>NEVER</td>\n",
       "      <td>None</td>\n",
       "      <td>None</td>\n",
       "      <td>NO</td>\n",
       "      <td>None</td>\n",
       "      <td>NO</td>\n",
       "      <td>NO</td>\n",
       "      <td>&lt;NA&gt;</td>\n",
       "      <td>NULL</td>\n",
       "      <td>NULL</td>\n",
       "      <td>None</td>\n",
       "    </tr>\n",
       "    <tr>\n",
       "      <th>9</th>\n",
       "      <td>statmike-mlops-349915</td>\n",
       "      <td>fraud</td>\n",
       "      <td>fraud_prepped</td>\n",
       "      <td>V9</td>\n",
       "      <td>10</td>\n",
       "      <td>YES</td>\n",
       "      <td>FLOAT64</td>\n",
       "      <td>NEVER</td>\n",
       "      <td>None</td>\n",
       "      <td>None</td>\n",
       "      <td>NO</td>\n",
       "      <td>None</td>\n",
       "      <td>NO</td>\n",
       "      <td>NO</td>\n",
       "      <td>&lt;NA&gt;</td>\n",
       "      <td>NULL</td>\n",
       "      <td>NULL</td>\n",
       "      <td>None</td>\n",
       "    </tr>\n",
       "    <tr>\n",
       "      <th>10</th>\n",
       "      <td>statmike-mlops-349915</td>\n",
       "      <td>fraud</td>\n",
       "      <td>fraud_prepped</td>\n",
       "      <td>V10</td>\n",
       "      <td>11</td>\n",
       "      <td>YES</td>\n",
       "      <td>FLOAT64</td>\n",
       "      <td>NEVER</td>\n",
       "      <td>None</td>\n",
       "      <td>None</td>\n",
       "      <td>NO</td>\n",
       "      <td>None</td>\n",
       "      <td>NO</td>\n",
       "      <td>NO</td>\n",
       "      <td>&lt;NA&gt;</td>\n",
       "      <td>NULL</td>\n",
       "      <td>NULL</td>\n",
       "      <td>None</td>\n",
       "    </tr>\n",
       "    <tr>\n",
       "      <th>11</th>\n",
       "      <td>statmike-mlops-349915</td>\n",
       "      <td>fraud</td>\n",
       "      <td>fraud_prepped</td>\n",
       "      <td>V11</td>\n",
       "      <td>12</td>\n",
       "      <td>YES</td>\n",
       "      <td>FLOAT64</td>\n",
       "      <td>NEVER</td>\n",
       "      <td>None</td>\n",
       "      <td>None</td>\n",
       "      <td>NO</td>\n",
       "      <td>None</td>\n",
       "      <td>NO</td>\n",
       "      <td>NO</td>\n",
       "      <td>&lt;NA&gt;</td>\n",
       "      <td>NULL</td>\n",
       "      <td>NULL</td>\n",
       "      <td>None</td>\n",
       "    </tr>\n",
       "    <tr>\n",
       "      <th>12</th>\n",
       "      <td>statmike-mlops-349915</td>\n",
       "      <td>fraud</td>\n",
       "      <td>fraud_prepped</td>\n",
       "      <td>V12</td>\n",
       "      <td>13</td>\n",
       "      <td>YES</td>\n",
       "      <td>FLOAT64</td>\n",
       "      <td>NEVER</td>\n",
       "      <td>None</td>\n",
       "      <td>None</td>\n",
       "      <td>NO</td>\n",
       "      <td>None</td>\n",
       "      <td>NO</td>\n",
       "      <td>NO</td>\n",
       "      <td>&lt;NA&gt;</td>\n",
       "      <td>NULL</td>\n",
       "      <td>NULL</td>\n",
       "      <td>None</td>\n",
       "    </tr>\n",
       "    <tr>\n",
       "      <th>13</th>\n",
       "      <td>statmike-mlops-349915</td>\n",
       "      <td>fraud</td>\n",
       "      <td>fraud_prepped</td>\n",
       "      <td>V13</td>\n",
       "      <td>14</td>\n",
       "      <td>YES</td>\n",
       "      <td>FLOAT64</td>\n",
       "      <td>NEVER</td>\n",
       "      <td>None</td>\n",
       "      <td>None</td>\n",
       "      <td>NO</td>\n",
       "      <td>None</td>\n",
       "      <td>NO</td>\n",
       "      <td>NO</td>\n",
       "      <td>&lt;NA&gt;</td>\n",
       "      <td>NULL</td>\n",
       "      <td>NULL</td>\n",
       "      <td>None</td>\n",
       "    </tr>\n",
       "    <tr>\n",
       "      <th>14</th>\n",
       "      <td>statmike-mlops-349915</td>\n",
       "      <td>fraud</td>\n",
       "      <td>fraud_prepped</td>\n",
       "      <td>V14</td>\n",
       "      <td>15</td>\n",
       "      <td>YES</td>\n",
       "      <td>FLOAT64</td>\n",
       "      <td>NEVER</td>\n",
       "      <td>None</td>\n",
       "      <td>None</td>\n",
       "      <td>NO</td>\n",
       "      <td>None</td>\n",
       "      <td>NO</td>\n",
       "      <td>NO</td>\n",
       "      <td>&lt;NA&gt;</td>\n",
       "      <td>NULL</td>\n",
       "      <td>NULL</td>\n",
       "      <td>None</td>\n",
       "    </tr>\n",
       "    <tr>\n",
       "      <th>15</th>\n",
       "      <td>statmike-mlops-349915</td>\n",
       "      <td>fraud</td>\n",
       "      <td>fraud_prepped</td>\n",
       "      <td>V15</td>\n",
       "      <td>16</td>\n",
       "      <td>YES</td>\n",
       "      <td>FLOAT64</td>\n",
       "      <td>NEVER</td>\n",
       "      <td>None</td>\n",
       "      <td>None</td>\n",
       "      <td>NO</td>\n",
       "      <td>None</td>\n",
       "      <td>NO</td>\n",
       "      <td>NO</td>\n",
       "      <td>&lt;NA&gt;</td>\n",
       "      <td>NULL</td>\n",
       "      <td>NULL</td>\n",
       "      <td>None</td>\n",
       "    </tr>\n",
       "    <tr>\n",
       "      <th>16</th>\n",
       "      <td>statmike-mlops-349915</td>\n",
       "      <td>fraud</td>\n",
       "      <td>fraud_prepped</td>\n",
       "      <td>V16</td>\n",
       "      <td>17</td>\n",
       "      <td>YES</td>\n",
       "      <td>FLOAT64</td>\n",
       "      <td>NEVER</td>\n",
       "      <td>None</td>\n",
       "      <td>None</td>\n",
       "      <td>NO</td>\n",
       "      <td>None</td>\n",
       "      <td>NO</td>\n",
       "      <td>NO</td>\n",
       "      <td>&lt;NA&gt;</td>\n",
       "      <td>NULL</td>\n",
       "      <td>NULL</td>\n",
       "      <td>None</td>\n",
       "    </tr>\n",
       "    <tr>\n",
       "      <th>17</th>\n",
       "      <td>statmike-mlops-349915</td>\n",
       "      <td>fraud</td>\n",
       "      <td>fraud_prepped</td>\n",
       "      <td>V17</td>\n",
       "      <td>18</td>\n",
       "      <td>YES</td>\n",
       "      <td>FLOAT64</td>\n",
       "      <td>NEVER</td>\n",
       "      <td>None</td>\n",
       "      <td>None</td>\n",
       "      <td>NO</td>\n",
       "      <td>None</td>\n",
       "      <td>NO</td>\n",
       "      <td>NO</td>\n",
       "      <td>&lt;NA&gt;</td>\n",
       "      <td>NULL</td>\n",
       "      <td>NULL</td>\n",
       "      <td>None</td>\n",
       "    </tr>\n",
       "    <tr>\n",
       "      <th>18</th>\n",
       "      <td>statmike-mlops-349915</td>\n",
       "      <td>fraud</td>\n",
       "      <td>fraud_prepped</td>\n",
       "      <td>V18</td>\n",
       "      <td>19</td>\n",
       "      <td>YES</td>\n",
       "      <td>FLOAT64</td>\n",
       "      <td>NEVER</td>\n",
       "      <td>None</td>\n",
       "      <td>None</td>\n",
       "      <td>NO</td>\n",
       "      <td>None</td>\n",
       "      <td>NO</td>\n",
       "      <td>NO</td>\n",
       "      <td>&lt;NA&gt;</td>\n",
       "      <td>NULL</td>\n",
       "      <td>NULL</td>\n",
       "      <td>None</td>\n",
       "    </tr>\n",
       "    <tr>\n",
       "      <th>19</th>\n",
       "      <td>statmike-mlops-349915</td>\n",
       "      <td>fraud</td>\n",
       "      <td>fraud_prepped</td>\n",
       "      <td>V19</td>\n",
       "      <td>20</td>\n",
       "      <td>YES</td>\n",
       "      <td>FLOAT64</td>\n",
       "      <td>NEVER</td>\n",
       "      <td>None</td>\n",
       "      <td>None</td>\n",
       "      <td>NO</td>\n",
       "      <td>None</td>\n",
       "      <td>NO</td>\n",
       "      <td>NO</td>\n",
       "      <td>&lt;NA&gt;</td>\n",
       "      <td>NULL</td>\n",
       "      <td>NULL</td>\n",
       "      <td>None</td>\n",
       "    </tr>\n",
       "    <tr>\n",
       "      <th>20</th>\n",
       "      <td>statmike-mlops-349915</td>\n",
       "      <td>fraud</td>\n",
       "      <td>fraud_prepped</td>\n",
       "      <td>V20</td>\n",
       "      <td>21</td>\n",
       "      <td>YES</td>\n",
       "      <td>FLOAT64</td>\n",
       "      <td>NEVER</td>\n",
       "      <td>None</td>\n",
       "      <td>None</td>\n",
       "      <td>NO</td>\n",
       "      <td>None</td>\n",
       "      <td>NO</td>\n",
       "      <td>NO</td>\n",
       "      <td>&lt;NA&gt;</td>\n",
       "      <td>NULL</td>\n",
       "      <td>NULL</td>\n",
       "      <td>None</td>\n",
       "    </tr>\n",
       "    <tr>\n",
       "      <th>21</th>\n",
       "      <td>statmike-mlops-349915</td>\n",
       "      <td>fraud</td>\n",
       "      <td>fraud_prepped</td>\n",
       "      <td>V21</td>\n",
       "      <td>22</td>\n",
       "      <td>YES</td>\n",
       "      <td>FLOAT64</td>\n",
       "      <td>NEVER</td>\n",
       "      <td>None</td>\n",
       "      <td>None</td>\n",
       "      <td>NO</td>\n",
       "      <td>None</td>\n",
       "      <td>NO</td>\n",
       "      <td>NO</td>\n",
       "      <td>&lt;NA&gt;</td>\n",
       "      <td>NULL</td>\n",
       "      <td>NULL</td>\n",
       "      <td>None</td>\n",
       "    </tr>\n",
       "    <tr>\n",
       "      <th>22</th>\n",
       "      <td>statmike-mlops-349915</td>\n",
       "      <td>fraud</td>\n",
       "      <td>fraud_prepped</td>\n",
       "      <td>V22</td>\n",
       "      <td>23</td>\n",
       "      <td>YES</td>\n",
       "      <td>FLOAT64</td>\n",
       "      <td>NEVER</td>\n",
       "      <td>None</td>\n",
       "      <td>None</td>\n",
       "      <td>NO</td>\n",
       "      <td>None</td>\n",
       "      <td>NO</td>\n",
       "      <td>NO</td>\n",
       "      <td>&lt;NA&gt;</td>\n",
       "      <td>NULL</td>\n",
       "      <td>NULL</td>\n",
       "      <td>None</td>\n",
       "    </tr>\n",
       "    <tr>\n",
       "      <th>23</th>\n",
       "      <td>statmike-mlops-349915</td>\n",
       "      <td>fraud</td>\n",
       "      <td>fraud_prepped</td>\n",
       "      <td>V23</td>\n",
       "      <td>24</td>\n",
       "      <td>YES</td>\n",
       "      <td>FLOAT64</td>\n",
       "      <td>NEVER</td>\n",
       "      <td>None</td>\n",
       "      <td>None</td>\n",
       "      <td>NO</td>\n",
       "      <td>None</td>\n",
       "      <td>NO</td>\n",
       "      <td>NO</td>\n",
       "      <td>&lt;NA&gt;</td>\n",
       "      <td>NULL</td>\n",
       "      <td>NULL</td>\n",
       "      <td>None</td>\n",
       "    </tr>\n",
       "    <tr>\n",
       "      <th>24</th>\n",
       "      <td>statmike-mlops-349915</td>\n",
       "      <td>fraud</td>\n",
       "      <td>fraud_prepped</td>\n",
       "      <td>V24</td>\n",
       "      <td>25</td>\n",
       "      <td>YES</td>\n",
       "      <td>FLOAT64</td>\n",
       "      <td>NEVER</td>\n",
       "      <td>None</td>\n",
       "      <td>None</td>\n",
       "      <td>NO</td>\n",
       "      <td>None</td>\n",
       "      <td>NO</td>\n",
       "      <td>NO</td>\n",
       "      <td>&lt;NA&gt;</td>\n",
       "      <td>NULL</td>\n",
       "      <td>NULL</td>\n",
       "      <td>None</td>\n",
       "    </tr>\n",
       "    <tr>\n",
       "      <th>25</th>\n",
       "      <td>statmike-mlops-349915</td>\n",
       "      <td>fraud</td>\n",
       "      <td>fraud_prepped</td>\n",
       "      <td>V25</td>\n",
       "      <td>26</td>\n",
       "      <td>YES</td>\n",
       "      <td>FLOAT64</td>\n",
       "      <td>NEVER</td>\n",
       "      <td>None</td>\n",
       "      <td>None</td>\n",
       "      <td>NO</td>\n",
       "      <td>None</td>\n",
       "      <td>NO</td>\n",
       "      <td>NO</td>\n",
       "      <td>&lt;NA&gt;</td>\n",
       "      <td>NULL</td>\n",
       "      <td>NULL</td>\n",
       "      <td>None</td>\n",
       "    </tr>\n",
       "    <tr>\n",
       "      <th>26</th>\n",
       "      <td>statmike-mlops-349915</td>\n",
       "      <td>fraud</td>\n",
       "      <td>fraud_prepped</td>\n",
       "      <td>V26</td>\n",
       "      <td>27</td>\n",
       "      <td>YES</td>\n",
       "      <td>FLOAT64</td>\n",
       "      <td>NEVER</td>\n",
       "      <td>None</td>\n",
       "      <td>None</td>\n",
       "      <td>NO</td>\n",
       "      <td>None</td>\n",
       "      <td>NO</td>\n",
       "      <td>NO</td>\n",
       "      <td>&lt;NA&gt;</td>\n",
       "      <td>NULL</td>\n",
       "      <td>NULL</td>\n",
       "      <td>None</td>\n",
       "    </tr>\n",
       "    <tr>\n",
       "      <th>27</th>\n",
       "      <td>statmike-mlops-349915</td>\n",
       "      <td>fraud</td>\n",
       "      <td>fraud_prepped</td>\n",
       "      <td>V27</td>\n",
       "      <td>28</td>\n",
       "      <td>YES</td>\n",
       "      <td>FLOAT64</td>\n",
       "      <td>NEVER</td>\n",
       "      <td>None</td>\n",
       "      <td>None</td>\n",
       "      <td>NO</td>\n",
       "      <td>None</td>\n",
       "      <td>NO</td>\n",
       "      <td>NO</td>\n",
       "      <td>&lt;NA&gt;</td>\n",
       "      <td>NULL</td>\n",
       "      <td>NULL</td>\n",
       "      <td>None</td>\n",
       "    </tr>\n",
       "    <tr>\n",
       "      <th>28</th>\n",
       "      <td>statmike-mlops-349915</td>\n",
       "      <td>fraud</td>\n",
       "      <td>fraud_prepped</td>\n",
       "      <td>V28</td>\n",
       "      <td>29</td>\n",
       "      <td>YES</td>\n",
       "      <td>FLOAT64</td>\n",
       "      <td>NEVER</td>\n",
       "      <td>None</td>\n",
       "      <td>None</td>\n",
       "      <td>NO</td>\n",
       "      <td>None</td>\n",
       "      <td>NO</td>\n",
       "      <td>NO</td>\n",
       "      <td>&lt;NA&gt;</td>\n",
       "      <td>NULL</td>\n",
       "      <td>NULL</td>\n",
       "      <td>None</td>\n",
       "    </tr>\n",
       "    <tr>\n",
       "      <th>29</th>\n",
       "      <td>statmike-mlops-349915</td>\n",
       "      <td>fraud</td>\n",
       "      <td>fraud_prepped</td>\n",
       "      <td>Amount</td>\n",
       "      <td>30</td>\n",
       "      <td>YES</td>\n",
       "      <td>FLOAT64</td>\n",
       "      <td>NEVER</td>\n",
       "      <td>None</td>\n",
       "      <td>None</td>\n",
       "      <td>NO</td>\n",
       "      <td>None</td>\n",
       "      <td>NO</td>\n",
       "      <td>NO</td>\n",
       "      <td>&lt;NA&gt;</td>\n",
       "      <td>NULL</td>\n",
       "      <td>NULL</td>\n",
       "      <td>None</td>\n",
       "    </tr>\n",
       "    <tr>\n",
       "      <th>30</th>\n",
       "      <td>statmike-mlops-349915</td>\n",
       "      <td>fraud</td>\n",
       "      <td>fraud_prepped</td>\n",
       "      <td>Class</td>\n",
       "      <td>31</td>\n",
       "      <td>YES</td>\n",
       "      <td>INT64</td>\n",
       "      <td>NEVER</td>\n",
       "      <td>None</td>\n",
       "      <td>None</td>\n",
       "      <td>NO</td>\n",
       "      <td>None</td>\n",
       "      <td>NO</td>\n",
       "      <td>NO</td>\n",
       "      <td>&lt;NA&gt;</td>\n",
       "      <td>NULL</td>\n",
       "      <td>NULL</td>\n",
       "      <td>None</td>\n",
       "    </tr>\n",
       "    <tr>\n",
       "      <th>31</th>\n",
       "      <td>statmike-mlops-349915</td>\n",
       "      <td>fraud</td>\n",
       "      <td>fraud_prepped</td>\n",
       "      <td>transaction_id</td>\n",
       "      <td>32</td>\n",
       "      <td>YES</td>\n",
       "      <td>STRING</td>\n",
       "      <td>NEVER</td>\n",
       "      <td>None</td>\n",
       "      <td>None</td>\n",
       "      <td>NO</td>\n",
       "      <td>None</td>\n",
       "      <td>NO</td>\n",
       "      <td>NO</td>\n",
       "      <td>&lt;NA&gt;</td>\n",
       "      <td>NULL</td>\n",
       "      <td>NULL</td>\n",
       "      <td>None</td>\n",
       "    </tr>\n",
       "    <tr>\n",
       "      <th>32</th>\n",
       "      <td>statmike-mlops-349915</td>\n",
       "      <td>fraud</td>\n",
       "      <td>fraud_prepped</td>\n",
       "      <td>splits</td>\n",
       "      <td>33</td>\n",
       "      <td>YES</td>\n",
       "      <td>STRING</td>\n",
       "      <td>NEVER</td>\n",
       "      <td>None</td>\n",
       "      <td>None</td>\n",
       "      <td>NO</td>\n",
       "      <td>None</td>\n",
       "      <td>NO</td>\n",
       "      <td>NO</td>\n",
       "      <td>&lt;NA&gt;</td>\n",
       "      <td>NULL</td>\n",
       "      <td>NULL</td>\n",
       "      <td>None</td>\n",
       "    </tr>\n",
       "  </tbody>\n",
       "</table>\n",
       "</div>"
      ],
      "text/plain": [
       "            table_catalog table_schema     table_name     column_name  \\\n",
       "0   statmike-mlops-349915        fraud  fraud_prepped            Time   \n",
       "1   statmike-mlops-349915        fraud  fraud_prepped              V1   \n",
       "2   statmike-mlops-349915        fraud  fraud_prepped              V2   \n",
       "3   statmike-mlops-349915        fraud  fraud_prepped              V3   \n",
       "4   statmike-mlops-349915        fraud  fraud_prepped              V4   \n",
       "5   statmike-mlops-349915        fraud  fraud_prepped              V5   \n",
       "6   statmike-mlops-349915        fraud  fraud_prepped              V6   \n",
       "7   statmike-mlops-349915        fraud  fraud_prepped              V7   \n",
       "8   statmike-mlops-349915        fraud  fraud_prepped              V8   \n",
       "9   statmike-mlops-349915        fraud  fraud_prepped              V9   \n",
       "10  statmike-mlops-349915        fraud  fraud_prepped             V10   \n",
       "11  statmike-mlops-349915        fraud  fraud_prepped             V11   \n",
       "12  statmike-mlops-349915        fraud  fraud_prepped             V12   \n",
       "13  statmike-mlops-349915        fraud  fraud_prepped             V13   \n",
       "14  statmike-mlops-349915        fraud  fraud_prepped             V14   \n",
       "15  statmike-mlops-349915        fraud  fraud_prepped             V15   \n",
       "16  statmike-mlops-349915        fraud  fraud_prepped             V16   \n",
       "17  statmike-mlops-349915        fraud  fraud_prepped             V17   \n",
       "18  statmike-mlops-349915        fraud  fraud_prepped             V18   \n",
       "19  statmike-mlops-349915        fraud  fraud_prepped             V19   \n",
       "20  statmike-mlops-349915        fraud  fraud_prepped             V20   \n",
       "21  statmike-mlops-349915        fraud  fraud_prepped             V21   \n",
       "22  statmike-mlops-349915        fraud  fraud_prepped             V22   \n",
       "23  statmike-mlops-349915        fraud  fraud_prepped             V23   \n",
       "24  statmike-mlops-349915        fraud  fraud_prepped             V24   \n",
       "25  statmike-mlops-349915        fraud  fraud_prepped             V25   \n",
       "26  statmike-mlops-349915        fraud  fraud_prepped             V26   \n",
       "27  statmike-mlops-349915        fraud  fraud_prepped             V27   \n",
       "28  statmike-mlops-349915        fraud  fraud_prepped             V28   \n",
       "29  statmike-mlops-349915        fraud  fraud_prepped          Amount   \n",
       "30  statmike-mlops-349915        fraud  fraud_prepped           Class   \n",
       "31  statmike-mlops-349915        fraud  fraud_prepped  transaction_id   \n",
       "32  statmike-mlops-349915        fraud  fraud_prepped          splits   \n",
       "\n",
       "    ordinal_position is_nullable data_type is_generated generation_expression  \\\n",
       "0                  1         YES     INT64        NEVER                  None   \n",
       "1                  2         YES   FLOAT64        NEVER                  None   \n",
       "2                  3         YES   FLOAT64        NEVER                  None   \n",
       "3                  4         YES   FLOAT64        NEVER                  None   \n",
       "4                  5         YES   FLOAT64        NEVER                  None   \n",
       "5                  6         YES   FLOAT64        NEVER                  None   \n",
       "6                  7         YES   FLOAT64        NEVER                  None   \n",
       "7                  8         YES   FLOAT64        NEVER                  None   \n",
       "8                  9         YES   FLOAT64        NEVER                  None   \n",
       "9                 10         YES   FLOAT64        NEVER                  None   \n",
       "10                11         YES   FLOAT64        NEVER                  None   \n",
       "11                12         YES   FLOAT64        NEVER                  None   \n",
       "12                13         YES   FLOAT64        NEVER                  None   \n",
       "13                14         YES   FLOAT64        NEVER                  None   \n",
       "14                15         YES   FLOAT64        NEVER                  None   \n",
       "15                16         YES   FLOAT64        NEVER                  None   \n",
       "16                17         YES   FLOAT64        NEVER                  None   \n",
       "17                18         YES   FLOAT64        NEVER                  None   \n",
       "18                19         YES   FLOAT64        NEVER                  None   \n",
       "19                20         YES   FLOAT64        NEVER                  None   \n",
       "20                21         YES   FLOAT64        NEVER                  None   \n",
       "21                22         YES   FLOAT64        NEVER                  None   \n",
       "22                23         YES   FLOAT64        NEVER                  None   \n",
       "23                24         YES   FLOAT64        NEVER                  None   \n",
       "24                25         YES   FLOAT64        NEVER                  None   \n",
       "25                26         YES   FLOAT64        NEVER                  None   \n",
       "26                27         YES   FLOAT64        NEVER                  None   \n",
       "27                28         YES   FLOAT64        NEVER                  None   \n",
       "28                29         YES   FLOAT64        NEVER                  None   \n",
       "29                30         YES   FLOAT64        NEVER                  None   \n",
       "30                31         YES     INT64        NEVER                  None   \n",
       "31                32         YES    STRING        NEVER                  None   \n",
       "32                33         YES    STRING        NEVER                  None   \n",
       "\n",
       "   is_stored is_hidden is_updatable is_system_defined is_partitioning_column  \\\n",
       "0       None        NO         None                NO                     NO   \n",
       "1       None        NO         None                NO                     NO   \n",
       "2       None        NO         None                NO                     NO   \n",
       "3       None        NO         None                NO                     NO   \n",
       "4       None        NO         None                NO                     NO   \n",
       "5       None        NO         None                NO                     NO   \n",
       "6       None        NO         None                NO                     NO   \n",
       "7       None        NO         None                NO                     NO   \n",
       "8       None        NO         None                NO                     NO   \n",
       "9       None        NO         None                NO                     NO   \n",
       "10      None        NO         None                NO                     NO   \n",
       "11      None        NO         None                NO                     NO   \n",
       "12      None        NO         None                NO                     NO   \n",
       "13      None        NO         None                NO                     NO   \n",
       "14      None        NO         None                NO                     NO   \n",
       "15      None        NO         None                NO                     NO   \n",
       "16      None        NO         None                NO                     NO   \n",
       "17      None        NO         None                NO                     NO   \n",
       "18      None        NO         None                NO                     NO   \n",
       "19      None        NO         None                NO                     NO   \n",
       "20      None        NO         None                NO                     NO   \n",
       "21      None        NO         None                NO                     NO   \n",
       "22      None        NO         None                NO                     NO   \n",
       "23      None        NO         None                NO                     NO   \n",
       "24      None        NO         None                NO                     NO   \n",
       "25      None        NO         None                NO                     NO   \n",
       "26      None        NO         None                NO                     NO   \n",
       "27      None        NO         None                NO                     NO   \n",
       "28      None        NO         None                NO                     NO   \n",
       "29      None        NO         None                NO                     NO   \n",
       "30      None        NO         None                NO                     NO   \n",
       "31      None        NO         None                NO                     NO   \n",
       "32      None        NO         None                NO                     NO   \n",
       "\n",
       "    clustering_ordinal_position collation_name column_default rounding_mode  \n",
       "0                          <NA>           NULL           NULL          None  \n",
       "1                          <NA>           NULL           NULL          None  \n",
       "2                          <NA>           NULL           NULL          None  \n",
       "3                          <NA>           NULL           NULL          None  \n",
       "4                          <NA>           NULL           NULL          None  \n",
       "5                          <NA>           NULL           NULL          None  \n",
       "6                          <NA>           NULL           NULL          None  \n",
       "7                          <NA>           NULL           NULL          None  \n",
       "8                          <NA>           NULL           NULL          None  \n",
       "9                          <NA>           NULL           NULL          None  \n",
       "10                         <NA>           NULL           NULL          None  \n",
       "11                         <NA>           NULL           NULL          None  \n",
       "12                         <NA>           NULL           NULL          None  \n",
       "13                         <NA>           NULL           NULL          None  \n",
       "14                         <NA>           NULL           NULL          None  \n",
       "15                         <NA>           NULL           NULL          None  \n",
       "16                         <NA>           NULL           NULL          None  \n",
       "17                         <NA>           NULL           NULL          None  \n",
       "18                         <NA>           NULL           NULL          None  \n",
       "19                         <NA>           NULL           NULL          None  \n",
       "20                         <NA>           NULL           NULL          None  \n",
       "21                         <NA>           NULL           NULL          None  \n",
       "22                         <NA>           NULL           NULL          None  \n",
       "23                         <NA>           NULL           NULL          None  \n",
       "24                         <NA>           NULL           NULL          None  \n",
       "25                         <NA>           NULL           NULL          None  \n",
       "26                         <NA>           NULL           NULL          None  \n",
       "27                         <NA>           NULL           NULL          None  \n",
       "28                         <NA>           NULL           NULL          None  \n",
       "29                         <NA>           NULL           NULL          None  \n",
       "30                         <NA>           NULL           NULL          None  \n",
       "31                         <NA>           NULL           NULL          None  \n",
       "32                         <NA>           NULL           NULL          None  "
      ]
     },
     "execution_count": 13,
     "metadata": {},
     "output_type": "execute_result"
    }
   ],
   "source": [
    "query = f\"SELECT * FROM {BQ_PROJECT}.{BQ_DATASET}.INFORMATION_SCHEMA.COLUMNS WHERE TABLE_NAME = '{BQ_TABLE}'\"\n",
    "schema = bq.query(query).to_dataframe()\n",
    "schema"
   ]
  },
  {
   "cell_type": "markdown",
   "id": "a968eba8",
   "metadata": {},
   "source": [
    "### Número de clases\n",
    "Obtener el número de clases distintas en el dataset programáticamente.    \n",
    "Sabemos que son dos (fraudulenta o normal), pero código puede ser útil en otros dataset."
   ]
  },
  {
   "cell_type": "code",
   "execution_count": 14,
   "id": "45fcc860",
   "metadata": {},
   "outputs": [
    {
     "data": {
      "text/html": [
       "<div>\n",
       "<style scoped>\n",
       "    .dataframe tbody tr th:only-of-type {\n",
       "        vertical-align: middle;\n",
       "    }\n",
       "\n",
       "    .dataframe tbody tr th {\n",
       "        vertical-align: top;\n",
       "    }\n",
       "\n",
       "    .dataframe thead th {\n",
       "        text-align: right;\n",
       "    }\n",
       "</style>\n",
       "<table border=\"1\" class=\"dataframe\">\n",
       "  <thead>\n",
       "    <tr style=\"text-align: right;\">\n",
       "      <th></th>\n",
       "      <th>Class</th>\n",
       "    </tr>\n",
       "  </thead>\n",
       "  <tbody>\n",
       "    <tr>\n",
       "      <th>0</th>\n",
       "      <td>0</td>\n",
       "    </tr>\n",
       "    <tr>\n",
       "      <th>1</th>\n",
       "      <td>1</td>\n",
       "    </tr>\n",
       "  </tbody>\n",
       "</table>\n",
       "</div>"
      ],
      "text/plain": [
       "   Class\n",
       "0      0\n",
       "1      1"
      ]
     },
     "execution_count": 14,
     "metadata": {},
     "output_type": "execute_result"
    }
   ],
   "source": [
    "nclasses = bq.query(query = f'SELECT DISTINCT {VAR_TARGET} FROM {BQ_PROJECT}.{BQ_DATASET}.{BQ_TABLE} WHERE {VAR_TARGET} is not null').to_dataframe()\n",
    "nclasses"
   ]
  },
  {
   "cell_type": "markdown",
   "id": "ce90cf60",
   "metadata": {},
   "source": [
    "### Preparación de columnas para TensorFlow I/O\n",
    "\n",
    "Usar esquema de la tabla para preparar inputs para TensorFlow I/O:\n",
    "- Crear lista con nombre de columnas a usar (omitir las innecesarias)\n",
    "- Definir el tipo de datos de cada columna a partir de los *data type* entregados en el esquema."
   ]
  },
  {
   "cell_type": "code",
   "execution_count": 17,
   "id": "da81bb93",
   "metadata": {},
   "outputs": [],
   "source": [
    "OMIT = VAR_OMIT.split() + ['splits'] # Lista de columnas a omitir\n",
    "\n",
    "selected_fields = schema[~schema.column_name.isin(OMIT)].column_name.tolist() # Lista de columnas a leer\n",
    "\n",
    "# Lista con data type de las columnas a leer\n",
    "output_types = [dtypes.float64 if x=='FLOAT64' else dtypes.int64 for x in schema[~schema.column_name.isin(OMIT)].data_type.tolist()]"
   ]
  },
  {
   "cell_type": "markdown",
   "id": "8169327f",
   "metadata": {},
   "source": [
    "## Leer data de tabla de BigQuery con TensorFlow I/O "
   ]
  },
  {
   "cell_type": "markdown",
   "id": "60ad3922-4ebe-4fc2-b08a-bc05019f3e57",
   "metadata": {},
   "source": [
    "### Separar inputs en features y etiqueta"
   ]
  },
  {
   "cell_type": "markdown",
   "id": "fa7456f0",
   "metadata": {},
   "source": [
    "Crear función que separa datos entre features y etiqueta.   \n",
    "Codifica en One-Hot las etiquetas."
   ]
  },
  {
   "cell_type": "code",
   "execution_count": 18,
   "id": "95911ae2",
   "metadata": {},
   "outputs": [],
   "source": [
    "def transTable(row_dict):\n",
    "    target = row_dict.pop(VAR_TARGET)\n",
    "    target = tf.one_hot(tf.cast(target,tf.int64), nclasses)\n",
    "    target = tf.cast(target, tf.float32)\n",
    "    return(row_dict, target)"
   ]
  },
  {
   "cell_type": "markdown",
   "id": "73388e33",
   "metadata": {},
   "source": [
    "### Función para leer batches con Tensorflow I/O\n",
    "\n",
    "Función que lee batches de datos desde la tabla de BigQuery usando Tensorflow I/O.   \n",
    "Se configura para leer data en paralelo para acelerar el entrenamiento."
   ]
  },
  {
   "cell_type": "code",
   "execution_count": 19,
   "id": "39dbdf21",
   "metadata": {},
   "outputs": [],
   "source": [
    "def bq_reader(split):\n",
    "    reader = BigQueryClient()\n",
    "\n",
    "    training = reader.read_session(\n",
    "        parent = f\"projects/{PROJECT_ID}\",\n",
    "        project_id = BQ_PROJECT,\n",
    "        table_id = BQ_TABLE,\n",
    "        dataset_id = BQ_DATASET,\n",
    "        selected_fields = selected_fields,\n",
    "        output_types = output_types,\n",
    "        row_restriction = f\"splits='{split}'\",\n",
    "        requested_streams = 3\n",
    "    )\n",
    "    \n",
    "    return training.parallel_read_rows(sloppy = True, num_parallel_calls = tf.data.experimental.AUTOTUNE)"
   ]
  },
  {
   "cell_type": "markdown",
   "id": "ceb9d82a",
   "metadata": {},
   "source": [
    "Usar función para conjuntos de entrenamiento, validación y prueba."
   ]
  },
  {
   "cell_type": "code",
   "execution_count": 22,
   "id": "02718964",
   "metadata": {},
   "outputs": [],
   "source": [
    "train = bq_reader('TRAIN').prefetch(1).map(transTable).shuffle(BATCH_SIZE*10).batch(BATCH_SIZE)\n",
    "validate = bq_reader('VALIDATE').prefetch(1).map(transTable).batch(BATCH_SIZE)\n",
    "test = bq_reader('TEST').prefetch(1).map(transTable).batch(BATCH_SIZE)"
   ]
  },
  {
   "cell_type": "markdown",
   "id": "cfc84d95",
   "metadata": {},
   "source": [
    "### Revisar un batch de entrenamiento"
   ]
  },
  {
   "cell_type": "code",
   "execution_count": 24,
   "id": "9666af2c",
   "metadata": {},
   "outputs": [
    {
     "name": "stderr",
     "output_type": "stream",
     "text": [
      "2023-09-28 23:26:28.048388: E tensorflow/core/framework/dataset.cc:580] UNIMPLEMENTED: Cannot compute input sources for dataset of type IO>BigQueryDataset, because the dataset does not implement `InputDatasets`.\n",
      "2023-09-28 23:26:28.048431: E tensorflow/core/framework/dataset.cc:584] UNIMPLEMENTED: Cannot merge options for dataset of type IO>BigQueryDataset, because the dataset does not implement `InputDatasets`.\n"
     ]
    },
    {
     "name": "stdout",
     "output_type": "stream",
     "text": [
      "features:\n",
      " ['Amount', 'Time', 'V1', 'V10', 'V11', 'V12', 'V13', 'V14', 'V15', 'V16', 'V17', 'V18', 'V19', 'V2', 'V20', 'V21', 'V22', 'V23', 'V24', 'V25', 'V26', 'V27', 'V28', 'V3', 'V4', 'V5', 'V6', 'V7', 'V8', 'V9']\n",
      "\n",
      "target:\n",
      " tf.Tensor(\n",
      "[[1. 0.]\n",
      " [1. 0.]\n",
      " [1. 0.]\n",
      " [1. 0.]\n",
      " [1. 0.]\n",
      " [1. 0.]\n",
      " [1. 0.]\n",
      " [1. 0.]\n",
      " [1. 0.]\n",
      " [1. 0.]], shape=(10, 2), dtype=float32)\n"
     ]
    }
   ],
   "source": [
    "for features, target in train.take(1):\n",
    "    print('features:\\n',list(features.keys()))\n",
    "    print('\\netiqueta:\\n',target[0:10])"
   ]
  },
  {
   "cell_type": "markdown",
   "id": "f359ac9a",
   "metadata": {},
   "source": [
    "## Definir modelo\n",
    "\n",
    "Se crea modelo de regresión logística:\n",
    "\n",
    "- Se definen los inputs del modelo.\n",
    "- Se usa Batch Normalization para normalizar datos.\n",
    "- Se construye modelo de regresión logistica con función de activación *softmax*.\n",
    "- Se compila el modelo."
   ]
  },
  {
   "cell_type": "code",
   "execution_count": 25,
   "id": "a3d3792d-c1ed-4a1b-9a39-f9d7ab1e00ac",
   "metadata": {},
   "outputs": [],
   "source": [
    "# Modelo de regresion logística\n",
    "\n",
    "# Definición de input de modelo\n",
    "feature_columns = {header: tf.feature_column.numeric_column(header) for header in selected_fields if header != VAR_TARGET}\n",
    "feature_layer_inputs = {header: tf.keras.layers.Input(shape = (1,), name = header) for header in selected_fields if header != VAR_TARGET}\n",
    "\n",
    "# Concatenar columnas individuales de features en capa única\n",
    "feature_layer_outputs = tf.keras.layers.DenseFeatures(feature_columns.values(), name = 'feature_layer')(feature_layer_inputs)\n",
    "\n",
    "# Paso de Batch normalization\n",
    "normalized = tf.keras.layers.BatchNormalization(name = 'batch_normalization_layer')(feature_layer_outputs)\n",
    "\n",
    "# Capa fully connected con activación softmax\n",
    "logistic = tf.keras.layers.Dense(nclasses, activation = tf.nn.softmax, name = 'logistic')(normalized)\n",
    "\n",
    "# Construcción de modelo\n",
    "model = tf.keras.Model(\n",
    "    inputs = feature_layer_inputs,\n",
    "    outputs = logistic,\n",
    "    name = EXPERIMENT\n",
    ")\n",
    "\n",
    "# Compilar modelo\n",
    "model.compile(\n",
    "    optimizer = tf.keras.optimizers.SGD(), #SGD or Adam\n",
    "    loss = tf.keras.losses.CategoricalCrossentropy(),\n",
    "    metrics = ['accuracy', tf.keras.metrics.AUC(curve = 'PR', name = 'auprc')]\n",
    ")"
   ]
  },
  {
   "cell_type": "code",
   "execution_count": 28,
   "id": "5071c936",
   "metadata": {},
   "outputs": [
    {
     "name": "stdout",
     "output_type": "stream",
     "text": [
      "Model: \"05\"\n",
      "__________________________________________________________________________________________________\n",
      " Layer (type)                   Output Shape         Param #     Connected to                     \n",
      "==================================================================================================\n",
      " Amount (InputLayer)            [(None, 1)]          0           []                               \n",
      "                                                                                                  \n",
      " Time (InputLayer)              [(None, 1)]          0           []                               \n",
      "                                                                                                  \n",
      " V1 (InputLayer)                [(None, 1)]          0           []                               \n",
      "                                                                                                  \n",
      " V10 (InputLayer)               [(None, 1)]          0           []                               \n",
      "                                                                                                  \n",
      " V11 (InputLayer)               [(None, 1)]          0           []                               \n",
      "                                                                                                  \n",
      " V12 (InputLayer)               [(None, 1)]          0           []                               \n",
      "                                                                                                  \n",
      " V13 (InputLayer)               [(None, 1)]          0           []                               \n",
      "                                                                                                  \n",
      " V14 (InputLayer)               [(None, 1)]          0           []                               \n",
      "                                                                                                  \n",
      " V15 (InputLayer)               [(None, 1)]          0           []                               \n",
      "                                                                                                  \n",
      " V16 (InputLayer)               [(None, 1)]          0           []                               \n",
      "                                                                                                  \n",
      " V17 (InputLayer)               [(None, 1)]          0           []                               \n",
      "                                                                                                  \n",
      " V18 (InputLayer)               [(None, 1)]          0           []                               \n",
      "                                                                                                  \n",
      " V19 (InputLayer)               [(None, 1)]          0           []                               \n",
      "                                                                                                  \n",
      " V2 (InputLayer)                [(None, 1)]          0           []                               \n",
      "                                                                                                  \n",
      " V20 (InputLayer)               [(None, 1)]          0           []                               \n",
      "                                                                                                  \n",
      " V21 (InputLayer)               [(None, 1)]          0           []                               \n",
      "                                                                                                  \n",
      " V22 (InputLayer)               [(None, 1)]          0           []                               \n",
      "                                                                                                  \n",
      " V23 (InputLayer)               [(None, 1)]          0           []                               \n",
      "                                                                                                  \n",
      " V24 (InputLayer)               [(None, 1)]          0           []                               \n",
      "                                                                                                  \n",
      " V25 (InputLayer)               [(None, 1)]          0           []                               \n",
      "                                                                                                  \n",
      " V26 (InputLayer)               [(None, 1)]          0           []                               \n",
      "                                                                                                  \n",
      " V27 (InputLayer)               [(None, 1)]          0           []                               \n",
      "                                                                                                  \n",
      " V28 (InputLayer)               [(None, 1)]          0           []                               \n",
      "                                                                                                  \n",
      " V3 (InputLayer)                [(None, 1)]          0           []                               \n",
      "                                                                                                  \n",
      " V4 (InputLayer)                [(None, 1)]          0           []                               \n",
      "                                                                                                  \n",
      " V5 (InputLayer)                [(None, 1)]          0           []                               \n",
      "                                                                                                  \n",
      " V6 (InputLayer)                [(None, 1)]          0           []                               \n",
      "                                                                                                  \n",
      " V7 (InputLayer)                [(None, 1)]          0           []                               \n",
      "                                                                                                  \n",
      " V8 (InputLayer)                [(None, 1)]          0           []                               \n",
      "                                                                                                  \n",
      " V9 (InputLayer)                [(None, 1)]          0           []                               \n",
      "                                                                                                  \n",
      " feature_layer (DenseFeatures)  (None, 30)           0           ['Amount[0][0]',                 \n",
      "                                                                  'Time[0][0]',                   \n",
      "                                                                  'V1[0][0]',                     \n",
      "                                                                  'V10[0][0]',                    \n",
      "                                                                  'V11[0][0]',                    \n",
      "                                                                  'V12[0][0]',                    \n",
      "                                                                  'V13[0][0]',                    \n",
      "                                                                  'V14[0][0]',                    \n",
      "                                                                  'V15[0][0]',                    \n",
      "                                                                  'V16[0][0]',                    \n",
      "                                                                  'V17[0][0]',                    \n",
      "                                                                  'V18[0][0]',                    \n",
      "                                                                  'V19[0][0]',                    \n",
      "                                                                  'V2[0][0]',                     \n",
      "                                                                  'V20[0][0]',                    \n",
      "                                                                  'V21[0][0]',                    \n",
      "                                                                  'V22[0][0]',                    \n",
      "                                                                  'V23[0][0]',                    \n",
      "                                                                  'V24[0][0]',                    \n",
      "                                                                  'V25[0][0]',                    \n",
      "                                                                  'V26[0][0]',                    \n",
      "                                                                  'V27[0][0]',                    \n",
      "                                                                  'V28[0][0]',                    \n",
      "                                                                  'V3[0][0]',                     \n",
      "                                                                  'V4[0][0]',                     \n",
      "                                                                  'V5[0][0]',                     \n",
      "                                                                  'V6[0][0]',                     \n",
      "                                                                  'V7[0][0]',                     \n",
      "                                                                  'V8[0][0]',                     \n",
      "                                                                  'V9[0][0]']                     \n",
      "                                                                                                  \n",
      " batch_normalization_layer (Bat  (None, 30)          120         ['feature_layer[0][0]']          \n",
      " chNormalization)                                                                                 \n",
      "                                                                                                  \n",
      " logistic (Dense)               (None, 2)            62          ['batch_normalization_layer[0][0]\n",
      "                                                                 ']                               \n",
      "                                                                                                  \n",
      "==================================================================================================\n",
      "Total params: 182\n",
      "Trainable params: 122\n",
      "Non-trainable params: 60\n",
      "__________________________________________________________________________________________________\n"
     ]
    }
   ],
   "source": [
    "model.summary()"
   ]
  },
  {
   "cell_type": "markdown",
   "id": "4063ec71-6bdb-4660-8c36-e9a1ac4c294e",
   "metadata": {},
   "source": [
    "## Entrenamiento del modelo"
   ]
  },
  {
   "cell_type": "markdown",
   "id": "5a1e7136",
   "metadata": {},
   "source": [
    "- Entrenar modelo con método *fit*.\n",
    "- Notar que se entrena en maquina local."
   ]
  },
  {
   "cell_type": "code",
   "execution_count": 1,
   "id": "e68eeeb2",
   "metadata": {},
   "outputs": [
    {
     "ename": "NameError",
     "evalue": "name 'tf' is not defined",
     "output_type": "error",
     "traceback": [
      "\u001b[1;31m---------------------------------------------------------------------------\u001b[0m",
      "\u001b[1;31mNameError\u001b[0m                                 Traceback (most recent call last)",
      "Cell \u001b[1;32mIn[1], line 2\u001b[0m\n\u001b[0;32m      1\u001b[0m \u001b[38;5;66;03m# Preparar logs de TensorBoard\u001b[39;00m\n\u001b[1;32m----> 2\u001b[0m tensorboard_callback \u001b[38;5;241m=\u001b[39m tf\u001b[38;5;241m.\u001b[39mkeras\u001b[38;5;241m.\u001b[39mcallbacks\u001b[38;5;241m.\u001b[39mTensorBoard(log_dir \u001b[38;5;241m=\u001b[39m os\u001b[38;5;241m.\u001b[39mpath\u001b[38;5;241m.\u001b[39mjoin(DIR, \u001b[38;5;124m\"\u001b[39m\u001b[38;5;124mlogs\u001b[39m\u001b[38;5;124m\"\u001b[39m, \u001b[38;5;124mf\u001b[39m\u001b[38;5;124m'\u001b[39m\u001b[38;5;132;01m{\u001b[39;00mTIMESTAMP\u001b[38;5;132;01m}\u001b[39;00m\u001b[38;5;124m'\u001b[39m), histogram_freq\u001b[38;5;241m=\u001b[39m\u001b[38;5;241m1\u001b[39m)\n\u001b[0;32m      3\u001b[0m \u001b[38;5;66;03m# Entrenar modelo\u001b[39;00m\n\u001b[0;32m      4\u001b[0m history \u001b[38;5;241m=\u001b[39m model\u001b[38;5;241m.\u001b[39mfit(train, epochs \u001b[38;5;241m=\u001b[39m EPOCHS, callbacks \u001b[38;5;241m=\u001b[39m [tensorboard_callback], validation_data \u001b[38;5;241m=\u001b[39m validate)\n",
      "\u001b[1;31mNameError\u001b[0m: name 'tf' is not defined"
     ]
    }
   ],
   "source": [
    "# Preparar logs de TensorBoard\n",
    "tensorboard_callback = tf.keras.callbacks.TensorBoard(log_dir = os.path.join(DIR, \"logs\", f'{TIMESTAMP}'), histogram_freq=1)\n",
    "# Entrenar modelo\n",
    "history = model.fit(train, epochs = EPOCHS, callbacks = [tensorboard_callback], validation_data = validate)"
   ]
  },
  {
   "cell_type": "markdown",
   "id": "291b5ded-680b-4537-b2ea-35712ce992b5",
   "metadata": {},
   "source": [
    "## Evaluar el modelo"
   ]
  },
  {
   "cell_type": "markdown",
   "id": "42fc016d",
   "metadata": {},
   "source": [
    "Evaluar poder de generalización del modelo usando los datos de prueba."
   ]
  },
  {
   "cell_type": "code",
   "execution_count": 33,
   "id": "84fc5083",
   "metadata": {},
   "outputs": [
    {
     "name": "stderr",
     "output_type": "stream",
     "text": [
      "2023-09-28 23:29:21.556561: E tensorflow/core/framework/dataset.cc:580] UNIMPLEMENTED: Cannot compute input sources for dataset of type IO>BigQueryDataset, because the dataset does not implement `InputDatasets`.\n",
      "2023-09-28 23:29:21.556616: E tensorflow/core/framework/dataset.cc:584] UNIMPLEMENTED: Cannot merge options for dataset of type IO>BigQueryDataset, because the dataset does not implement `InputDatasets`.\n"
     ]
    },
    {
     "name": "stdout",
     "output_type": "stream",
     "text": [
      "286/286 [==============================] - 3s 7ms/step - loss: 0.0056 - accuracy: 0.9993 - auprc: 0.9994\n"
     ]
    }
   ],
   "source": [
    "loss, accuracy, auprc = model.evaluate(test)"
   ]
  },
  {
   "cell_type": "code",
   "execution_count": 35,
   "id": "61787273",
   "metadata": {},
   "outputs": [
    {
     "name": "stderr",
     "output_type": "stream",
     "text": [
      "2023-09-28 23:29:24.625741: E tensorflow/core/framework/dataset.cc:580] UNIMPLEMENTED: Cannot compute input sources for dataset of type IO>BigQueryDataset, because the dataset does not implement `InputDatasets`.\n",
      "2023-09-28 23:29:24.625795: E tensorflow/core/framework/dataset.cc:584] UNIMPLEMENTED: Cannot merge options for dataset of type IO>BigQueryDataset, because the dataset does not implement `InputDatasets`.\n"
     ]
    },
    {
     "name": "stdout",
     "output_type": "stream",
     "text": [
      "283/283 [==============================] - 2s 7ms/step - loss: 0.0058 - accuracy: 0.9992 - auprc: 0.9995\n"
     ]
    }
   ],
   "source": [
    "loss, accuracy, auprc = model.evaluate(validate)"
   ]
  },
  {
   "cell_type": "code",
   "execution_count": 37,
   "id": "190d870d",
   "metadata": {},
   "outputs": [
    {
     "name": "stderr",
     "output_type": "stream",
     "text": [
      "2023-09-28 23:29:27.306970: E tensorflow/core/framework/dataset.cc:580] UNIMPLEMENTED: Cannot compute input sources for dataset of type IO>BigQueryDataset, because the dataset does not implement `InputDatasets`.\n",
      "2023-09-28 23:29:27.307036: E tensorflow/core/framework/dataset.cc:584] UNIMPLEMENTED: Cannot merge options for dataset of type IO>BigQueryDataset, because the dataset does not implement `InputDatasets`.\n"
     ]
    },
    {
     "name": "stdout",
     "output_type": "stream",
     "text": [
      "2281/2281 [==============================] - 29s 13ms/step - loss: 0.0061 - accuracy: 0.9993 - auprc: 0.9994\n"
     ]
    }
   ],
   "source": [
    "loss, accuracy, auprc = model.evaluate(train)"
   ]
  },
  {
   "cell_type": "code",
   "execution_count": 39,
   "id": "1180dd37-ac7c-4d0f-8095-81793aa53009",
   "metadata": {},
   "outputs": [
    {
     "name": "stderr",
     "output_type": "stream",
     "text": [
      "2023-09-28 23:29:56.816335: E tensorflow/core/framework/dataset.cc:580] UNIMPLEMENTED: Cannot compute input sources for dataset of type IO>BigQueryDataset, because the dataset does not implement `InputDatasets`.\n",
      "2023-09-28 23:29:56.816393: E tensorflow/core/framework/dataset.cc:584] UNIMPLEMENTED: Cannot merge options for dataset of type IO>BigQueryDataset, because the dataset does not implement `InputDatasets`.\n"
     ]
    },
    {
     "name": "stdout",
     "output_type": "stream",
     "text": [
      "286/286 [==============================] - 4s 7ms/step\n"
     ]
    },
    {
     "name": "stderr",
     "output_type": "stream",
     "text": [
      "2023-09-28 23:30:00.223257: E tensorflow/core/framework/dataset.cc:580] UNIMPLEMENTED: Cannot compute input sources for dataset of type IO>BigQueryDataset, because the dataset does not implement `InputDatasets`.\n",
      "2023-09-28 23:30:00.223323: E tensorflow/core/framework/dataset.cc:584] UNIMPLEMENTED: Cannot merge options for dataset of type IO>BigQueryDataset, because the dataset does not implement `InputDatasets`.\n"
     ]
    }
   ],
   "source": [
    "predictions = model.predict(test)\n",
    "\n",
    "actuals = np.empty(shape = [0, predictions.shape[1]])\n",
    "for features, target in test.take(-1): # -1 indicates all batches\n",
    "    actuals = np.append(actuals, target.numpy(), axis = 0)\n",
    "\n",
    "predictions_proba = np.max(predictions, axis = 1)\n",
    "predictions = np.argmax(predictions, axis = 1)\n",
    "actuals = np.argmax(actuals, axis = 1)"
   ]
  },
  {
   "cell_type": "markdown",
   "id": "90393bcd-ce91-41fb-be30-4618f469be36",
   "metadata": {},
   "source": [
    "### Calcular métricas:"
   ]
  },
  {
   "cell_type": "code",
   "execution_count": 42,
   "id": "9221ab09-d759-4d21-8620-a5d4486f24e8",
   "metadata": {},
   "outputs": [
    {
     "data": {
      "text/plain": [
       "0.02655661782230954"
      ]
     },
     "execution_count": 42,
     "metadata": {},
     "output_type": "execute_result"
    }
   ],
   "source": [
    "metrics.log_loss(actuals, predictions)"
   ]
  },
  {
   "cell_type": "code",
   "execution_count": 43,
   "id": "bea81c35-23b9-4ff1-8bb9-988381f99260",
   "metadata": {},
   "outputs": [
    {
     "data": {
      "text/plain": [
       "0.9992632095993264"
      ]
     },
     "execution_count": 43,
     "metadata": {},
     "output_type": "execute_result"
    }
   ],
   "source": [
    "metrics.accuracy_score(actuals, predictions)"
   ]
  },
  {
   "cell_type": "code",
   "execution_count": 44,
   "id": "4dd05d09-5cc2-4671-b485-c1ea55aa11b1",
   "metadata": {},
   "outputs": [
    {
     "data": {
      "text/plain": [
       "0.5797465127493853"
      ]
     },
     "execution_count": 44,
     "metadata": {},
     "output_type": "execute_result"
    }
   ],
   "source": [
    "metrics.average_precision_score(actuals, predictions)"
   ]
  },
  {
   "cell_type": "markdown",
   "id": "c8cc6b44-77b5-4acb-813b-ff332a907985",
   "metadata": {},
   "source": [
    "## Visualizar curvas de entrenamiento y validación (Tensorboard)"
   ]
  },
  {
   "cell_type": "code",
   "execution_count": 45,
   "id": "87bd476f-ca49-442f-8524-b762a6b21714",
   "metadata": {},
   "outputs": [],
   "source": [
    "%load_ext tensorboard"
   ]
  },
  {
   "cell_type": "code",
   "execution_count": null,
   "id": "562c6c6a-4b5e-44b4-aec0-64b449e36feb",
   "metadata": {},
   "outputs": [],
   "source": [
    "%tensorboard --logdir $DIR/logs"
   ]
  },
  {
   "cell_type": "markdown",
   "id": "2913711d",
   "metadata": {},
   "source": [
    "## Guardar modelo"
   ]
  },
  {
   "cell_type": "code",
   "execution_count": 48,
   "id": "81f63da1",
   "metadata": {},
   "outputs": [
    {
     "name": "stderr",
     "output_type": "stream",
     "text": [
      "WARNING:absl:Function `_wrapped_model` contains input name(s) Amount, Time, V1, V10, V11, V12, V13, V14, V15, V16, V17, V18, V19, V2, V20, V21, V22, V23, V24, V25, V26, V27, V28, V3, V4, V5, V6, V7, V8, V9 with unsupported characters which will be renamed to amount, time, v1, v10, v11, v12, v13, v14, v15, v16, v17, v18, v19, v2, v20, v21, v22, v23, v24, v25, v26, v27, v28, v3, v4, v5, v6, v7, v8, v9 in the SavedModel.\n",
      "WARNING:absl:Found untraced functions such as _update_step_xla while saving (showing 1 of 1). These functions will not be directly callable after loading.\n"
     ]
    },
    {
     "name": "stdout",
     "output_type": "stream",
     "text": [
      "INFO:tensorflow:Assets written to: gs://statmike-mlops-349915/05/05/models/20230327115749/model/assets\n"
     ]
    },
    {
     "name": "stderr",
     "output_type": "stream",
     "text": [
      "INFO:tensorflow:Assets written to: gs://statmike-mlops-349915/05/05/models/20230327115749/model/assets\n"
     ]
    }
   ],
   "source": [
    "model.save(f'{URI}/models/{TIMESTAMP}/model')"
   ]
  },
  {
   "cell_type": "markdown",
   "id": "4dc74a2d-53a3-4bc5-9042-032b9a3d3076",
   "metadata": {},
   "source": [
    "## Implementación de modelo (API)"
   ]
  },
  {
   "cell_type": "markdown",
   "id": "10036d46",
   "metadata": {},
   "source": [
    "### Registrar modelo en Vertex AI\n",
    "\n",
    "Verificar que modelo no haya sido agregado anteriormente.   \n",
    "Agregar modelo a Vertex AI."
   ]
  },
  {
   "cell_type": "code",
   "execution_count": 60,
   "id": "071c1f72",
   "metadata": {},
   "outputs": [
    {
     "name": "stdout",
     "output_type": "stream",
     "text": [
      "Model Already in Registry:\n",
      "Loading model as new default version.\n",
      "Creating Model\n"
     ]
    },
    {
     "name": "stderr",
     "output_type": "stream",
     "text": [
      "INFO:google.cloud.aiplatform.models:Creating Model\n"
     ]
    },
    {
     "name": "stdout",
     "output_type": "stream",
     "text": [
      "Create Model backing LRO: projects/1026793852137/locations/us-central1/models/model_05_05/operations/1395049152047480832\n"
     ]
    },
    {
     "name": "stderr",
     "output_type": "stream",
     "text": [
      "INFO:google.cloud.aiplatform.models:Create Model backing LRO: projects/1026793852137/locations/us-central1/models/model_05_05/operations/1395049152047480832\n"
     ]
    },
    {
     "name": "stdout",
     "output_type": "stream",
     "text": [
      "Model created. Resource name: projects/1026793852137/locations/us-central1/models/model_05_05@13\n"
     ]
    },
    {
     "name": "stderr",
     "output_type": "stream",
     "text": [
      "INFO:google.cloud.aiplatform.models:Model created. Resource name: projects/1026793852137/locations/us-central1/models/model_05_05@13\n"
     ]
    },
    {
     "name": "stdout",
     "output_type": "stream",
     "text": [
      "To use this Model in another session:\n"
     ]
    },
    {
     "name": "stderr",
     "output_type": "stream",
     "text": [
      "INFO:google.cloud.aiplatform.models:To use this Model in another session:\n"
     ]
    },
    {
     "name": "stdout",
     "output_type": "stream",
     "text": [
      "model = aiplatform.Model('projects/1026793852137/locations/us-central1/models/model_05_05@13')\n"
     ]
    },
    {
     "name": "stderr",
     "output_type": "stream",
     "text": [
      "INFO:google.cloud.aiplatform.models:model = aiplatform.Model('projects/1026793852137/locations/us-central1/models/model_05_05@13')\n"
     ]
    }
   ],
   "source": [
    "modelmatch = aiplatform.Model.list(filter = f'display_name={SERIES}_{EXPERIMENT} AND labels.series={SERIES} AND labels.experiment={EXPERIMENT}')\n",
    "\n",
    "upload_model = True\n",
    "if modelmatch:\n",
    "    print(\"Modelo ya existe\")\n",
    "    upload_model = False\n",
    "else:\n",
    "    print('Agregando modelo al registro')\n",
    "    parent_model = ''\n",
    "\n",
    "if upload_model:\n",
    "    model = aiplatform.Model.upload(\n",
    "        display_name = f'{SERIES}_{EXPERIMENT}',\n",
    "        model_id = f'model_{SERIES}_{EXPERIMENT}',\n",
    "        parent_model =  parent_model,\n",
    "        serving_container_image_uri = DEPLOY_IMAGE,\n",
    "        artifact_uri = f\"{URI}/models/{TIMESTAMP}/model\",\n",
    "        is_default_version = True,\n",
    "        version_aliases = [RUN_NAME],\n",
    "        version_description = RUN_NAME,\n",
    "        labels = {'series' : f'{SERIES}', 'experiment' : f'{EXPERIMENT}', 'experiment_name' : f'{EXPERIMENT_NAME}', 'run_name' : f'{RUN_NAME}'}        \n",
    "    )"
   ]
  },
  {
   "cell_type": "markdown",
   "id": "3818d8eb-b15e-472f-90ff-b68cda9b4a2b",
   "metadata": {},
   "source": [
    ">**Note** on Version Aliases:\n",
    ">Expectation is a name starting with `a-z` that can include `[a-zA-Z0-9-]`\n",
    ">\n",
    ">**Retrieve a Model Resource**\n",
    ">[aiplatform.Model()](https://cloud.google.com/python/docs/reference/aiplatform/latest/google.cloud.aiplatform.Model)\n",
    ">```Python\n",
    "model = aiplatform.Model(model_name = f'model_{SERIES}_{EXPERIMENT}') # retrieves default version\n",
    "model = aiplatform.Model(model_name = f'model_{SERIES}_{EXPERIMENT}@time-{TIMESTAMP}') # retrieves specific version\n",
    "model = aiplatform.Model(model_name = f'model_{SERIES}_{EXPERIMENT}', version = f'time-{TIMESTAMP}') # retrieves specific version\n",
    "```"
   ]
  },
  {
   "cell_type": "markdown",
   "id": "dfd12b79",
   "metadata": {},
   "source": [
    "### Crear endpoint para hacer peticiones de predicciones\n",
    "\n",
    "Verificar si *endpoint* ya existe.   \n",
    "Crear *endpoint* (vacio por el momento)."
   ]
  },
  {
   "cell_type": "code",
   "execution_count": 77,
   "id": "2cc28d98-b525-4385-9b95-489bf574f967",
   "metadata": {},
   "outputs": [
    {
     "name": "stdout",
     "output_type": "stream",
     "text": [
      "Endpoint Exists: projects/1026793852137/locations/us-central1/endpoints/5876762107113897984\n",
      "Review the Endpoint in the Console:\n",
      "https://console.cloud.google.com/vertex-ai/locations/us-central1/endpoints/5876762107113897984?project=statmike-mlops-349915\n"
     ]
    }
   ],
   "source": [
    "endpoints = aiplatform.Endpoint.list(filter = f\"labels.series={SERIES}\")\n",
    "if endpoints:\n",
    "    endpoint = endpoints[0]\n",
    "    print(f\"Endpoint Exists: {endpoints[0].resource_name}\")\n",
    "else:\n",
    "    endpoint = aiplatform.Endpoint.create(\n",
    "        display_name = f\"{SERIES}\",\n",
    "        labels = {'series' : f\"{SERIES}\"}    \n",
    "    )\n",
    "    print(f\"Endpoint Created: {endpoint.resource_name}\")\n",
    "    \n",
    "print(f'Review the Endpoint in the Console:\\nhttps://console.cloud.google.com/vertex-ai/locations/{REGION}/endpoints/{endpoint.name}?project={PROJECT_ID}')"
   ]
  },
  {
   "cell_type": "code",
   "execution_count": 78,
   "id": "0a538bf0",
   "metadata": {},
   "outputs": [
    {
     "data": {
      "text/plain": [
       "'05'"
      ]
     },
     "execution_count": 78,
     "metadata": {},
     "output_type": "execute_result"
    }
   ],
   "source": [
    "endpoint.display_name"
   ]
  },
  {
   "cell_type": "code",
   "execution_count": 93,
   "id": "85d06eba-82dc-4d50-8405-800d756e3584",
   "metadata": {},
   "outputs": [],
   "source": [
    "deployed_models = endpoint.list_models()\n",
    "#deployed_models"
   ]
  },
  {
   "cell_type": "markdown",
   "id": "25e49dd0",
   "metadata": {},
   "source": [
    "### Desplegar modelo a endpoint\n",
    "Agregar modelo en registro de Vertex AI al *endpoint* creado."
   ]
  },
  {
   "cell_type": "code",
   "execution_count": 95,
   "id": "e739bc1c",
   "metadata": {},
   "outputs": [
    {
     "name": "stdout",
     "output_type": "stream",
     "text": [
      "Deploying model with 100% of traffic...\n",
      "Deploying Model projects/1026793852137/locations/us-central1/models/model_05_05 to Endpoint : projects/1026793852137/locations/us-central1/endpoints/5876762107113897984\n"
     ]
    },
    {
     "name": "stderr",
     "output_type": "stream",
     "text": [
      "INFO:google.cloud.aiplatform.models:Deploying Model projects/1026793852137/locations/us-central1/models/model_05_05 to Endpoint : projects/1026793852137/locations/us-central1/endpoints/5876762107113897984\n"
     ]
    },
    {
     "name": "stdout",
     "output_type": "stream",
     "text": [
      "Deploy Endpoint model backing LRO: projects/1026793852137/locations/us-central1/endpoints/5876762107113897984/operations/4239072316731949056\n"
     ]
    },
    {
     "name": "stderr",
     "output_type": "stream",
     "text": [
      "INFO:google.cloud.aiplatform.models:Deploy Endpoint model backing LRO: projects/1026793852137/locations/us-central1/endpoints/5876762107113897984/operations/4239072316731949056\n"
     ]
    },
    {
     "name": "stdout",
     "output_type": "stream",
     "text": [
      "Endpoint model deployed. Resource name: projects/1026793852137/locations/us-central1/endpoints/5876762107113897984\n"
     ]
    },
    {
     "name": "stderr",
     "output_type": "stream",
     "text": [
      "INFO:google.cloud.aiplatform.models:Endpoint model deployed. Resource name: projects/1026793852137/locations/us-central1/endpoints/5876762107113897984\n"
     ]
    }
   ],
   "source": [
    "endpoint.deploy(\n",
    "    model = model,\n",
    "    deployed_model_display_name = model.display_name,\n",
    "    traffic_percentage = 100,\n",
    "    machine_type = DEPLOY_COMPUTE,\n",
    "    min_replica_count = 1,\n",
    "    max_replica_count = 1\n",
    ")\n"
   ]
  },
  {
   "cell_type": "markdown",
   "id": "a58790ad",
   "metadata": {},
   "source": [
    "## Predicciones en línea"
   ]
  },
  {
   "cell_type": "markdown",
   "id": "342a01eb",
   "metadata": {},
   "source": [
    "### Extraer datos para hacer predicciones\n",
    "\n",
    "Se extraen 10 datos de *test*."
   ]
  },
  {
   "cell_type": "code",
   "execution_count": 99,
   "id": "68911df0-5bee-44fb-9bb8-5aa363ae1c9d",
   "metadata": {},
   "outputs": [],
   "source": [
    "n = 10\n",
    "pred = bq.query(\n",
    "    query = f\"\"\"\n",
    "        SELECT * EXCEPT({VAR_TARGET}, {VAR_OMIT}, splits)\n",
    "        FROM {BQ_PROJECT}.{BQ_DATASET}.{BQ_TABLE}\n",
    "        WHERE splits='TEST'\n",
    "        LIMIT {n}\n",
    "        \"\"\"\n",
    ").to_dataframe()"
   ]
  },
  {
   "cell_type": "code",
   "execution_count": 100,
   "id": "e2bae334-4223-4680-a2d0-d350f6a7ef1d",
   "metadata": {},
   "outputs": [
    {
     "data": {
      "text/html": [
       "<div>\n",
       "<style scoped>\n",
       "    .dataframe tbody tr th:only-of-type {\n",
       "        vertical-align: middle;\n",
       "    }\n",
       "\n",
       "    .dataframe tbody tr th {\n",
       "        vertical-align: top;\n",
       "    }\n",
       "\n",
       "    .dataframe thead th {\n",
       "        text-align: right;\n",
       "    }\n",
       "</style>\n",
       "<table border=\"1\" class=\"dataframe\">\n",
       "  <thead>\n",
       "    <tr style=\"text-align: right;\">\n",
       "      <th></th>\n",
       "      <th>Time</th>\n",
       "      <th>V1</th>\n",
       "      <th>V2</th>\n",
       "      <th>V3</th>\n",
       "      <th>V4</th>\n",
       "      <th>V5</th>\n",
       "      <th>V6</th>\n",
       "      <th>V7</th>\n",
       "      <th>V8</th>\n",
       "      <th>V9</th>\n",
       "      <th>...</th>\n",
       "      <th>V20</th>\n",
       "      <th>V21</th>\n",
       "      <th>V22</th>\n",
       "      <th>V23</th>\n",
       "      <th>V24</th>\n",
       "      <th>V25</th>\n",
       "      <th>V26</th>\n",
       "      <th>V27</th>\n",
       "      <th>V28</th>\n",
       "      <th>Amount</th>\n",
       "    </tr>\n",
       "  </thead>\n",
       "  <tbody>\n",
       "    <tr>\n",
       "      <th>0</th>\n",
       "      <td>35337</td>\n",
       "      <td>1.092844</td>\n",
       "      <td>-0.013230</td>\n",
       "      <td>1.359829</td>\n",
       "      <td>2.731537</td>\n",
       "      <td>-0.707357</td>\n",
       "      <td>0.873837</td>\n",
       "      <td>-0.796130</td>\n",
       "      <td>0.437707</td>\n",
       "      <td>0.396770</td>\n",
       "      <td>...</td>\n",
       "      <td>-0.240428</td>\n",
       "      <td>0.037603</td>\n",
       "      <td>0.380026</td>\n",
       "      <td>-0.167647</td>\n",
       "      <td>0.027557</td>\n",
       "      <td>0.592115</td>\n",
       "      <td>0.219695</td>\n",
       "      <td>0.036970</td>\n",
       "      <td>0.010984</td>\n",
       "      <td>0.0</td>\n",
       "    </tr>\n",
       "    <tr>\n",
       "      <th>1</th>\n",
       "      <td>60481</td>\n",
       "      <td>1.238973</td>\n",
       "      <td>0.035226</td>\n",
       "      <td>0.063003</td>\n",
       "      <td>0.641406</td>\n",
       "      <td>-0.260893</td>\n",
       "      <td>-0.580097</td>\n",
       "      <td>0.049938</td>\n",
       "      <td>-0.034733</td>\n",
       "      <td>0.405932</td>\n",
       "      <td>...</td>\n",
       "      <td>-0.265080</td>\n",
       "      <td>-0.060003</td>\n",
       "      <td>-0.053585</td>\n",
       "      <td>-0.057718</td>\n",
       "      <td>0.104983</td>\n",
       "      <td>0.537987</td>\n",
       "      <td>0.589563</td>\n",
       "      <td>-0.046207</td>\n",
       "      <td>-0.006212</td>\n",
       "      <td>0.0</td>\n",
       "    </tr>\n",
       "    <tr>\n",
       "      <th>2</th>\n",
       "      <td>139587</td>\n",
       "      <td>1.870539</td>\n",
       "      <td>0.211079</td>\n",
       "      <td>0.224457</td>\n",
       "      <td>3.889486</td>\n",
       "      <td>-0.380177</td>\n",
       "      <td>0.249799</td>\n",
       "      <td>-0.577133</td>\n",
       "      <td>0.179189</td>\n",
       "      <td>-0.120462</td>\n",
       "      <td>...</td>\n",
       "      <td>-0.374356</td>\n",
       "      <td>0.196006</td>\n",
       "      <td>0.656552</td>\n",
       "      <td>0.180776</td>\n",
       "      <td>-0.060226</td>\n",
       "      <td>-0.228979</td>\n",
       "      <td>0.080827</td>\n",
       "      <td>0.009868</td>\n",
       "      <td>-0.036997</td>\n",
       "      <td>0.0</td>\n",
       "    </tr>\n",
       "    <tr>\n",
       "      <th>3</th>\n",
       "      <td>162908</td>\n",
       "      <td>-3.368339</td>\n",
       "      <td>-1.980442</td>\n",
       "      <td>0.153645</td>\n",
       "      <td>-0.159795</td>\n",
       "      <td>3.847169</td>\n",
       "      <td>-3.516873</td>\n",
       "      <td>-1.209398</td>\n",
       "      <td>-0.292122</td>\n",
       "      <td>0.760543</td>\n",
       "      <td>...</td>\n",
       "      <td>-0.923275</td>\n",
       "      <td>-0.545992</td>\n",
       "      <td>-0.252324</td>\n",
       "      <td>-1.171627</td>\n",
       "      <td>0.214333</td>\n",
       "      <td>-0.159652</td>\n",
       "      <td>-0.060883</td>\n",
       "      <td>1.294977</td>\n",
       "      <td>0.120503</td>\n",
       "      <td>0.0</td>\n",
       "    </tr>\n",
       "    <tr>\n",
       "      <th>4</th>\n",
       "      <td>165236</td>\n",
       "      <td>2.180149</td>\n",
       "      <td>0.218732</td>\n",
       "      <td>-2.637726</td>\n",
       "      <td>0.348776</td>\n",
       "      <td>1.063546</td>\n",
       "      <td>-1.249197</td>\n",
       "      <td>0.942021</td>\n",
       "      <td>-0.547652</td>\n",
       "      <td>-0.087823</td>\n",
       "      <td>...</td>\n",
       "      <td>-0.250653</td>\n",
       "      <td>0.234502</td>\n",
       "      <td>0.825237</td>\n",
       "      <td>-0.176957</td>\n",
       "      <td>0.563779</td>\n",
       "      <td>0.730183</td>\n",
       "      <td>0.707494</td>\n",
       "      <td>-0.131066</td>\n",
       "      <td>-0.090428</td>\n",
       "      <td>0.0</td>\n",
       "    </tr>\n",
       "    <tr>\n",
       "      <th>5</th>\n",
       "      <td>62606</td>\n",
       "      <td>1.199408</td>\n",
       "      <td>0.352007</td>\n",
       "      <td>0.379645</td>\n",
       "      <td>1.372017</td>\n",
       "      <td>0.291347</td>\n",
       "      <td>0.524919</td>\n",
       "      <td>-0.117555</td>\n",
       "      <td>0.132907</td>\n",
       "      <td>-0.935169</td>\n",
       "      <td>...</td>\n",
       "      <td>-0.042979</td>\n",
       "      <td>-0.050291</td>\n",
       "      <td>-0.126609</td>\n",
       "      <td>-0.022218</td>\n",
       "      <td>-0.599026</td>\n",
       "      <td>0.258188</td>\n",
       "      <td>0.928721</td>\n",
       "      <td>-0.058988</td>\n",
       "      <td>-0.008856</td>\n",
       "      <td>0.0</td>\n",
       "    </tr>\n",
       "    <tr>\n",
       "      <th>6</th>\n",
       "      <td>90719</td>\n",
       "      <td>1.937447</td>\n",
       "      <td>0.337882</td>\n",
       "      <td>-0.000630</td>\n",
       "      <td>3.816486</td>\n",
       "      <td>0.276515</td>\n",
       "      <td>1.079842</td>\n",
       "      <td>-0.730626</td>\n",
       "      <td>0.197353</td>\n",
       "      <td>1.137566</td>\n",
       "      <td>...</td>\n",
       "      <td>-0.315667</td>\n",
       "      <td>-0.038376</td>\n",
       "      <td>0.208914</td>\n",
       "      <td>0.160189</td>\n",
       "      <td>-0.015145</td>\n",
       "      <td>-0.162678</td>\n",
       "      <td>-0.000843</td>\n",
       "      <td>-0.018178</td>\n",
       "      <td>-0.039339</td>\n",
       "      <td>0.0</td>\n",
       "    </tr>\n",
       "    <tr>\n",
       "      <th>7</th>\n",
       "      <td>113350</td>\n",
       "      <td>1.891900</td>\n",
       "      <td>0.401086</td>\n",
       "      <td>-0.119983</td>\n",
       "      <td>4.047500</td>\n",
       "      <td>0.049952</td>\n",
       "      <td>0.192793</td>\n",
       "      <td>-0.108512</td>\n",
       "      <td>-0.040400</td>\n",
       "      <td>-0.390391</td>\n",
       "      <td>...</td>\n",
       "      <td>-0.267639</td>\n",
       "      <td>0.094177</td>\n",
       "      <td>0.613712</td>\n",
       "      <td>0.070986</td>\n",
       "      <td>0.079543</td>\n",
       "      <td>0.135219</td>\n",
       "      <td>0.128961</td>\n",
       "      <td>0.003667</td>\n",
       "      <td>-0.045079</td>\n",
       "      <td>0.0</td>\n",
       "    </tr>\n",
       "    <tr>\n",
       "      <th>8</th>\n",
       "      <td>156499</td>\n",
       "      <td>0.060003</td>\n",
       "      <td>1.461355</td>\n",
       "      <td>0.378915</td>\n",
       "      <td>2.835455</td>\n",
       "      <td>1.626526</td>\n",
       "      <td>-0.164732</td>\n",
       "      <td>1.551858</td>\n",
       "      <td>-0.412927</td>\n",
       "      <td>-1.735264</td>\n",
       "      <td>...</td>\n",
       "      <td>-0.175275</td>\n",
       "      <td>0.042293</td>\n",
       "      <td>0.277536</td>\n",
       "      <td>-0.123379</td>\n",
       "      <td>1.081552</td>\n",
       "      <td>-0.053079</td>\n",
       "      <td>-0.149809</td>\n",
       "      <td>-0.314438</td>\n",
       "      <td>-0.216539</td>\n",
       "      <td>0.0</td>\n",
       "    </tr>\n",
       "    <tr>\n",
       "      <th>9</th>\n",
       "      <td>73902</td>\n",
       "      <td>-1.859260</td>\n",
       "      <td>2.158799</td>\n",
       "      <td>1.085671</td>\n",
       "      <td>2.615483</td>\n",
       "      <td>0.246660</td>\n",
       "      <td>2.133925</td>\n",
       "      <td>-1.569015</td>\n",
       "      <td>-2.612353</td>\n",
       "      <td>-1.312509</td>\n",
       "      <td>...</td>\n",
       "      <td>0.590142</td>\n",
       "      <td>-0.867178</td>\n",
       "      <td>-0.700479</td>\n",
       "      <td>0.231972</td>\n",
       "      <td>-1.374527</td>\n",
       "      <td>0.140285</td>\n",
       "      <td>0.128806</td>\n",
       "      <td>0.153606</td>\n",
       "      <td>0.092042</td>\n",
       "      <td>0.0</td>\n",
       "    </tr>\n",
       "  </tbody>\n",
       "</table>\n",
       "<p>10 rows × 30 columns</p>\n",
       "</div>"
      ],
      "text/plain": [
       "     Time        V1        V2        V3        V4        V5        V6  \\\n",
       "0   35337  1.092844 -0.013230  1.359829  2.731537 -0.707357  0.873837   \n",
       "1   60481  1.238973  0.035226  0.063003  0.641406 -0.260893 -0.580097   \n",
       "2  139587  1.870539  0.211079  0.224457  3.889486 -0.380177  0.249799   \n",
       "3  162908 -3.368339 -1.980442  0.153645 -0.159795  3.847169 -3.516873   \n",
       "4  165236  2.180149  0.218732 -2.637726  0.348776  1.063546 -1.249197   \n",
       "5   62606  1.199408  0.352007  0.379645  1.372017  0.291347  0.524919   \n",
       "6   90719  1.937447  0.337882 -0.000630  3.816486  0.276515  1.079842   \n",
       "7  113350  1.891900  0.401086 -0.119983  4.047500  0.049952  0.192793   \n",
       "8  156499  0.060003  1.461355  0.378915  2.835455  1.626526 -0.164732   \n",
       "9   73902 -1.859260  2.158799  1.085671  2.615483  0.246660  2.133925   \n",
       "\n",
       "         V7        V8        V9  ...       V20       V21       V22       V23  \\\n",
       "0 -0.796130  0.437707  0.396770  ... -0.240428  0.037603  0.380026 -0.167647   \n",
       "1  0.049938 -0.034733  0.405932  ... -0.265080 -0.060003 -0.053585 -0.057718   \n",
       "2 -0.577133  0.179189 -0.120462  ... -0.374356  0.196006  0.656552  0.180776   \n",
       "3 -1.209398 -0.292122  0.760543  ... -0.923275 -0.545992 -0.252324 -1.171627   \n",
       "4  0.942021 -0.547652 -0.087823  ... -0.250653  0.234502  0.825237 -0.176957   \n",
       "5 -0.117555  0.132907 -0.935169  ... -0.042979 -0.050291 -0.126609 -0.022218   \n",
       "6 -0.730626  0.197353  1.137566  ... -0.315667 -0.038376  0.208914  0.160189   \n",
       "7 -0.108512 -0.040400 -0.390391  ... -0.267639  0.094177  0.613712  0.070986   \n",
       "8  1.551858 -0.412927 -1.735264  ... -0.175275  0.042293  0.277536 -0.123379   \n",
       "9 -1.569015 -2.612353 -1.312509  ...  0.590142 -0.867178 -0.700479  0.231972   \n",
       "\n",
       "        V24       V25       V26       V27       V28  Amount  \n",
       "0  0.027557  0.592115  0.219695  0.036970  0.010984     0.0  \n",
       "1  0.104983  0.537987  0.589563 -0.046207 -0.006212     0.0  \n",
       "2 -0.060226 -0.228979  0.080827  0.009868 -0.036997     0.0  \n",
       "3  0.214333 -0.159652 -0.060883  1.294977  0.120503     0.0  \n",
       "4  0.563779  0.730183  0.707494 -0.131066 -0.090428     0.0  \n",
       "5 -0.599026  0.258188  0.928721 -0.058988 -0.008856     0.0  \n",
       "6 -0.015145 -0.162678 -0.000843 -0.018178 -0.039339     0.0  \n",
       "7  0.079543  0.135219  0.128961  0.003667 -0.045079     0.0  \n",
       "8  1.081552 -0.053079 -0.149809 -0.314438 -0.216539     0.0  \n",
       "9 -1.374527  0.140285  0.128806  0.153606  0.092042     0.0  \n",
       "\n",
       "[10 rows x 30 columns]"
      ]
     },
     "execution_count": 100,
     "metadata": {},
     "output_type": "execute_result"
    }
   ],
   "source": [
    "pred"
   ]
  },
  {
   "cell_type": "code",
   "execution_count": 101,
   "id": "5640e67a",
   "metadata": {},
   "outputs": [],
   "source": [
    "newobs = pred.to_dict(orient = 'records')\n",
    "#newobs[0]"
   ]
  },
  {
   "cell_type": "markdown",
   "id": "81d5eff9",
   "metadata": {},
   "source": [
    "### Obtener predicciones usando un cliente en Python"
   ]
  },
  {
   "cell_type": "code",
   "execution_count": 104,
   "id": "dec05c59-dc93-4a69-90bf-5f3f96f4d006",
   "metadata": {},
   "outputs": [
    {
     "data": {
      "text/plain": [
       "Prediction(predictions=[[0.993294418, 0.00670557469]], deployed_model_id='7857939123854639104', model_version_id='12', model_resource_name='projects/1026793852137/locations/us-central1/models/model_05_05', explanations=None)"
      ]
     },
     "execution_count": 104,
     "metadata": {},
     "output_type": "execute_result"
    }
   ],
   "source": [
    "prediction = endpoint.predict(instances = newobs[0:1])\n",
    "prediction"
   ]
  },
  {
   "cell_type": "code",
   "execution_count": 105,
   "id": "06cb59fe",
   "metadata": {},
   "outputs": [
    {
     "data": {
      "text/plain": [
       "Prediction(predictions=[[0.993294418, 0.00670557469], [0.998874247, 0.00112578226], [0.996102333, 0.0038977135], [0.999988675, 1.13643564e-05], [0.999644279, 0.000355680444], [0.993244469, 0.0067555015], [0.9964059, 0.00359401572], [0.992631078, 0.00736896461], [0.996538043, 0.00346192438], [0.999423862, 0.00057616405]], deployed_model_id='7857939123854639104', model_version_id='12', model_resource_name='projects/1026793852137/locations/us-central1/models/model_05_05', explanations=None)"
      ]
     },
     "execution_count": 105,
     "metadata": {},
     "output_type": "execute_result"
    }
   ],
   "source": [
    "prediction = endpoint.predict(instances = newobs)\n",
    "prediction"
   ]
  },
  {
   "cell_type": "code",
   "execution_count": 106,
   "id": "3b22b4cb",
   "metadata": {},
   "outputs": [
    {
     "data": {
      "text/plain": [
       "[0.993294418, 0.00670557469]"
      ]
     },
     "execution_count": 106,
     "metadata": {},
     "output_type": "execute_result"
    }
   ],
   "source": [
    "prediction.predictions[0]"
   ]
  },
  {
   "cell_type": "code",
   "execution_count": 107,
   "id": "b64e3283",
   "metadata": {},
   "outputs": [
    {
     "data": {
      "text/plain": [
       "0"
      ]
     },
     "execution_count": 107,
     "metadata": {},
     "output_type": "execute_result"
    }
   ],
   "source": [
    "np.argmax(prediction.predictions[0])"
   ]
  },
  {
   "cell_type": "markdown",
   "id": "8c2a8676",
   "metadata": {},
   "source": [
    "### Obtener predicciones con petición REST"
   ]
  },
  {
   "cell_type": "code",
   "execution_count": 108,
   "id": "5f97f30c",
   "metadata": {},
   "outputs": [],
   "source": [
    "with open(f'{DIR}/request.json','w') as file:\n",
    "    file.write(json.dumps({\"instances\": newobs[0:1]}))"
   ]
  },
  {
   "cell_type": "code",
   "execution_count": 109,
   "id": "362dd5c2",
   "metadata": {},
   "outputs": [
    {
     "name": "stdout",
     "output_type": "stream",
     "text": [
      "{\n",
      "  \"predictions\": [\n",
      "    [\n",
      "      0.993294418,\n",
      "      0.00670557469\n",
      "    ]\n",
      "  ],\n",
      "  \"deployedModelId\": \"7857939123854639104\",\n",
      "  \"model\": \"projects/1026793852137/locations/us-central1/models/model_05_05\",\n",
      "  \"modelDisplayName\": \"05_05\",\n",
      "  \"modelVersionId\": \"12\"\n",
      "}\n"
     ]
    }
   ],
   "source": [
    "!curl -X POST \\\n",
    "-H \"Authorization: Bearer \"$(gcloud auth application-default print-access-token) \\\n",
    "-H \"Content-Type: application/json; charset=utf-8\" \\\n",
    "-d @{DIR}/request.json \\\n",
    "https://{REGION}-aiplatform.googleapis.com/v1/{endpoint.resource_name}:predict"
   ]
  },
  {
   "cell_type": "markdown",
   "id": "74bd7c47",
   "metadata": {},
   "source": [
    "### Obtener predicciones con gcloud (CLI)"
   ]
  },
  {
   "cell_type": "code",
   "execution_count": 110,
   "id": "d1e56e39",
   "metadata": {},
   "outputs": [
    {
     "name": "stdout",
     "output_type": "stream",
     "text": [
      "Using endpoint [https://us-central1-prediction-aiplatform.googleapis.com/]\n",
      "[[0.993294418, 0.00670557469]]\n"
     ]
    }
   ],
   "source": [
    "!gcloud beta ai endpoints predict {endpoint.name.rsplit('/',1)[-1]} --region={REGION} --json-request={DIR}/request.json"
   ]
  }
 ],
 "metadata": {
  "environment": {
   "kernel": "python3",
   "name": "tf2-gpu.2-12.m110",
   "type": "gcloud",
   "uri": "gcr.io/deeplearning-platform-release/tf2-gpu.2-12:m110"
  },
  "kernelspec": {
   "display_name": "Python 3 (ipykernel)",
   "language": "python",
   "name": "python3"
  },
  "language_info": {
   "codemirror_mode": {
    "name": "ipython",
    "version": 3
   },
   "file_extension": ".py",
   "mimetype": "text/x-python",
   "name": "python",
   "nbconvert_exporter": "python",
   "pygments_lexer": "ipython3",
   "version": "3.11.4"
  }
 },
 "nbformat": 4,
 "nbformat_minor": 5
}
